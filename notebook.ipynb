{
 "cells": [
  {
   "cell_type": "markdown",
   "source": "![cover](NNT_header.png)",
   "metadata": {
    "tags": [],
    "cell_id": "00000-32c625a7-8561-4e80-b96a-f109645686de",
    "deepnote_app_coordinates": {
     "x": 0,
     "y": 0,
     "w": 19,
     "h": 11
    },
    "deepnote_cell_type": "markdown"
   }
  },
  {
   "cell_type": "code",
   "metadata": {
    "execution": {
     "iopub.status.busy": "2021-11-19T22:54:52.225446Z",
     "iopub.execute_input": "2021-11-19T22:54:52.225838Z",
     "iopub.status.idle": "2021-11-19T22:54:52.233306Z",
     "shell.execute_reply.started": "2021-11-19T22:54:52.225792Z",
     "shell.execute_reply": "2021-11-19T22:54:52.232439Z"
    },
    "trusted": true,
    "cell_id": "00000-9e6db969-0f37-4f49-9039-c6649ac8bb2e",
    "deepnote_to_be_reexecuted": false,
    "source_hash": "e16b94b1",
    "execution_start": 1637451147258,
    "execution_millis": 14726,
    "is_code_hidden": false,
    "deepnote_cell_type": "code"
   },
   "source": "!pip install pandas_datareader==0.10.0\n\nimport os\nimport pandas as pd\nimport numpy as np\nimport math\nimport datetime as dt\n\nfrom sklearn.metrics import mean_squared_error, mean_absolute_error, explained_variance_score, r2_score \nfrom sklearn.metrics import mean_poisson_deviance, mean_gamma_deviance, accuracy_score\nfrom sklearn.preprocessing import MinMaxScaler\n\nimport tensorflow as tf\nfrom tensorflow.keras.models import Sequential\nfrom tensorflow.keras.layers import Dense, Dropout\nfrom tensorflow.keras.layers import LSTM, GRU\n\nfrom itertools import cycle\nimport plotly.graph_objects as go\nimport plotly.express as px\nfrom plotly.subplots import make_subplots\n\nimport warnings \nwarnings.filterwarnings(\"ignore\")\n\nfrom datetime import datetime, timedelta\n\n# For reading stock data from yahoo\nfrom pandas_datareader.data import DataReader",
   "outputs": [
    {
     "name": "stdout",
     "text": "Collecting pandas_datareader==0.10.0\n  Downloading pandas_datareader-0.10.0-py3-none-any.whl (109 kB)\n\u001b[K     |████████████████████████████████| 109 kB 6.4 MB/s \n\u001b[?25hRequirement already satisfied: requests>=2.19.0 in /shared-libs/python3.7/py/lib/python3.7/site-packages (from pandas_datareader==0.10.0) (2.26.0)\nRequirement already satisfied: pandas>=0.23 in /shared-libs/python3.7/py/lib/python3.7/site-packages (from pandas_datareader==0.10.0) (1.2.5)\nRequirement already satisfied: lxml in /shared-libs/python3.7/py/lib/python3.7/site-packages (from pandas_datareader==0.10.0) (4.6.4)\nRequirement already satisfied: certifi>=2017.4.17 in /shared-libs/python3.7/py/lib/python3.7/site-packages (from requests>=2.19.0->pandas_datareader==0.10.0) (2021.10.8)\nRequirement already satisfied: charset-normalizer~=2.0.0; python_version >= \"3\" in /shared-libs/python3.7/py-core/lib/python3.7/site-packages (from requests>=2.19.0->pandas_datareader==0.10.0) (2.0.7)\nRequirement already satisfied: urllib3<1.27,>=1.21.1 in /shared-libs/python3.7/py/lib/python3.7/site-packages (from requests>=2.19.0->pandas_datareader==0.10.0) (1.26.7)\nRequirement already satisfied: idna<4,>=2.5; python_version >= \"3\" in /shared-libs/python3.7/py-core/lib/python3.7/site-packages (from requests>=2.19.0->pandas_datareader==0.10.0) (3.3)\nRequirement already satisfied: numpy>=1.16.5 in /shared-libs/python3.7/py/lib/python3.7/site-packages (from pandas>=0.23->pandas_datareader==0.10.0) (1.19.5)\nRequirement already satisfied: pytz>=2017.3 in /shared-libs/python3.7/py/lib/python3.7/site-packages (from pandas>=0.23->pandas_datareader==0.10.0) (2021.3)\nRequirement already satisfied: python-dateutil>=2.7.3 in /shared-libs/python3.7/py-core/lib/python3.7/site-packages (from pandas>=0.23->pandas_datareader==0.10.0) (2.8.2)\nRequirement already satisfied: six>=1.5 in /shared-libs/python3.7/py-core/lib/python3.7/site-packages (from python-dateutil>=2.7.3->pandas>=0.23->pandas_datareader==0.10.0) (1.16.0)\nInstalling collected packages: pandas-datareader\nSuccessfully installed pandas-datareader-0.10.0\n\u001b[33mWARNING: You are using pip version 20.1.1; however, version 21.3.1 is available.\nYou should consider upgrading via the '/root/venv/bin/python -m pip install --upgrade pip' command.\u001b[0m\n",
     "output_type": "stream"
    }
   ],
   "execution_count": null
  },
  {
   "cell_type": "markdown",
   "source": "#### Нейросеть GRU. Расчет прогноза изменения цены на X дней вперед\nВерсия beta 0.6.5. ////////////  Время вычисления прогноза с настройками по умолчанию 1-2 минуты. \nВ случае зависания или вылета программы, просто перезагрузите страницу.",
   "metadata": {
    "tags": [],
    "cell_id": "00002-33d627af-301a-42da-b289-1a5a633b6ef1",
    "deepnote_app_coordinates": {
     "x": 0,
     "y": 11,
     "w": 14,
     "h": 4
    },
    "deepnote_cell_type": "markdown"
   }
  },
  {
   "cell_type": "code",
   "metadata": {
    "deepnote_variable_name": "tiker",
    "deepnote_variable_value": "ZC=F",
    "cell_id": "00002-d7d42d21-854a-42e5-bbd4-dd1ecb9ec984",
    "deepnote_to_be_reexecuted": false,
    "source_hash": "f3690d87",
    "execution_start": 1637451161987,
    "execution_millis": 19,
    "deepnote_app_coordinates": {
     "x": 0,
     "y": 15,
     "w": 4,
     "h": 4
    },
    "deepnote_cell_type": "input-text"
   },
   "source": "tiker = 'ZC=F'",
   "outputs": [],
   "execution_count": null
  },
  {
   "cell_type": "markdown",
   "source": "- За сколько лет скачивать данные котировок? По умолчанию: 2",
   "metadata": {
    "tags": [],
    "is_collapsed": false,
    "cell_id": "00003-90f88cb7-e4d8-4bba-bff5-5bdf68956f9d",
    "deepnote_app_coordinates": {
     "x": 0,
     "y": 19,
     "w": 7,
     "h": 3
    },
    "deepnote_cell_type": "text-cell-p"
   }
  },
  {
   "cell_type": "code",
   "metadata": {
    "deepnote_variable_name": "y1",
    "deepnote_variable_value": "2",
    "deepnote_slider_min_value": 1,
    "deepnote_slider_max_value": 5,
    "deepnote_slider_step": 1,
    "cell_id": "00005-cab651b5-cb19-4c17-b616-1a10376a755d",
    "deepnote_to_be_reexecuted": false,
    "source_hash": "3e596550",
    "execution_start": 1637451162045,
    "execution_millis": 1,
    "deepnote_app_coordinates": {
     "x": 0,
     "y": 22,
     "w": 7,
     "h": 4
    },
    "deepnote_cell_type": "input-slider"
   },
   "source": "y1 = 2",
   "outputs": [],
   "execution_count": null
  },
  {
   "cell_type": "code",
   "metadata": {
    "tags": [],
    "cell_id": "00001-881ee3b9-d13c-4a73-9517-38950e9de9fe",
    "deepnote_to_be_reexecuted": false,
    "source_hash": "5ba60c3f",
    "execution_start": 1637451162046,
    "execution_millis": 1,
    "deepnote_cell_type": "code"
   },
   "source": "n_d = 365 * int(y1)\n\ndataset_start = datetime.now() - timedelta(days=n_d)",
   "outputs": [],
   "execution_count": null
  },
  {
   "cell_type": "markdown",
   "source": "- До какой даты получать данные? Если пусто: Сегодня. Формат: ГГГГ-ММ-ДД",
   "metadata": {
    "tags": [],
    "is_collapsed": false,
    "cell_id": "00005-0be69401-adb9-4e13-b4b3-3e85b70de2eb",
    "deepnote_app_coordinates": {
     "x": 8,
     "y": 19,
     "w": 7,
     "h": 3
    },
    "deepnote_cell_type": "text-cell-p"
   }
  },
  {
   "cell_type": "code",
   "metadata": {
    "tags": [],
    "cell_id": "00007-d1a14d50-3d79-468e-b438-808c8f2216ea",
    "deepnote_to_be_reexecuted": false,
    "source_hash": "42239350",
    "execution_start": 1637451162047,
    "execution_millis": 47,
    "deepnote_output_heights": [
     21
    ],
    "deepnote_cell_type": "code"
   },
   "source": "end=datetime.now()\nend",
   "outputs": [
    {
     "output_type": "execute_result",
     "execution_count": 5,
     "data": {
      "text/plain": "datetime.datetime(2021, 11, 20, 23, 32, 42, 29651)"
     },
     "metadata": {}
    }
   ],
   "execution_count": null
  },
  {
   "cell_type": "code",
   "metadata": {
    "deepnote_variable_name": "end",
    "deepnote_variable_value": "2021-11-12",
    "cell_id": "00008-8f98e53c-0466-4f6f-8d27-f59dd28a6c2e",
    "deepnote_to_be_reexecuted": false,
    "source_hash": "a7310743",
    "execution_start": 1637451162091,
    "execution_millis": 0,
    "deepnote_app_coordinates": {
     "x": 9,
     "y": 22,
     "w": 4,
     "h": 4
    },
    "deepnote_cell_type": "input-text"
   },
   "source": "end = '2021-11-12'",
   "outputs": [],
   "execution_count": null
  },
  {
   "cell_type": "markdown",
   "source": "- Сколько лет учитывать для обучения? По умолчанию: 1",
   "metadata": {
    "tags": [],
    "is_collapsed": false,
    "cell_id": "00011-1ee0ff78-f070-45fd-9a24-9e4fac0ea993",
    "deepnote_app_coordinates": {
     "x": 15,
     "y": 19,
     "w": 7,
     "h": 3
    },
    "deepnote_cell_type": "text-cell-p"
   }
  },
  {
   "cell_type": "code",
   "metadata": {
    "deepnote_variable_name": "y2",
    "deepnote_variable_value": "1",
    "deepnote_slider_min_value": 1,
    "deepnote_slider_max_value": 3,
    "deepnote_slider_step": 1,
    "cell_id": "00007-ea6e6e94-943d-475f-830b-73c2a5c17d90",
    "deepnote_to_be_reexecuted": false,
    "source_hash": "cb03a1ea",
    "execution_start": 1637451162091,
    "execution_millis": 1,
    "deepnote_app_coordinates": {
     "x": 15,
     "y": 22,
     "w": 7,
     "h": 4
    },
    "deepnote_cell_type": "input-slider"
   },
   "source": "y2 = 1",
   "outputs": [],
   "execution_count": null
  },
  {
   "cell_type": "code",
   "metadata": {
    "tags": [],
    "cell_id": "00006-5b0ac2e4-91b0-44c6-ad61-9879147de4a3",
    "deepnote_to_be_reexecuted": false,
    "source_hash": "c4da8220",
    "execution_start": 1637451162133,
    "execution_millis": 1,
    "deepnote_output_heights": [
     21
    ],
    "deepnote_cell_type": "code"
   },
   "source": "n_d2 = 365 * int(y2)\ncalculate_start = datetime.now() - timedelta(days=n_d2)",
   "outputs": [],
   "execution_count": null
  },
  {
   "cell_type": "code",
   "metadata": {
    "tags": [],
    "cell_id": "00013-ac426ecd-e53f-441c-b478-a2743a32f186",
    "deepnote_to_be_reexecuted": false,
    "source_hash": "19ce374e",
    "execution_start": 1637451162134,
    "execution_millis": 2169392,
    "deepnote_cell_type": "code"
   },
   "source": "print(dataset_start)\nprint(end)\nprint(calculate_start)",
   "outputs": [
    {
     "name": "stdout",
     "text": "2019-11-21 23:32:42.018822\n2021-11-12\n2020-11-20 23:32:42.086864\n",
     "output_type": "stream"
    }
   ],
   "execution_count": null
  },
  {
   "cell_type": "code",
   "metadata": {
    "execution": {
     "iopub.status.busy": "2021-11-19T22:54:52.246792Z",
     "iopub.execute_input": "2021-11-19T22:54:52.247495Z",
     "iopub.status.idle": "2021-11-19T22:54:54.287241Z",
     "shell.execute_reply.started": "2021-11-19T22:54:52.247462Z",
     "shell.execute_reply": "2021-11-19T22:54:54.286432Z"
    },
    "trusted": true,
    "cell_id": "00002-f50d7dcb-191d-405f-a505-ef04467efe4e",
    "deepnote_to_be_reexecuted": false,
    "source_hash": "10b68b0d",
    "execution_start": 1637451162189,
    "execution_millis": 511,
    "deepnote_cell_type": "code"
   },
   "source": "def collect_data(Symbol, start_date):\n    stock_data = DataReader(Symbol, data_source='yahoo', start=start_date, end=end)\n    return stock_data    \n\n#Test the function\ndata = collect_data(tiker, dataset_start)",
   "outputs": [],
   "execution_count": null
  },
  {
   "cell_type": "code",
   "metadata": {
    "execution": {
     "iopub.status.busy": "2021-11-19T22:54:54.288855Z",
     "iopub.execute_input": "2021-11-19T22:54:54.289136Z",
     "iopub.status.idle": "2021-11-19T22:54:54.303465Z",
     "shell.execute_reply.started": "2021-11-19T22:54:54.289107Z",
     "shell.execute_reply": "2021-11-19T22:54:54.302669Z"
    },
    "trusted": true,
    "cell_id": "00003-960583e7-2687-49ff-898f-6c55d841f365",
    "deepnote_to_be_reexecuted": false,
    "source_hash": "7aeeddab",
    "execution_start": 1637451162713,
    "execution_millis": 21,
    "deepnote_cell_type": "code"
   },
   "source": "print(\"Total number of days: \",data.shape[0])\nprint(\"Total number of fields: \",data.shape[1])\nprint(\"Null values:\", data.isnull().values.sum())\nprint(\"NA values:\", data.isna().values.any())\n# convert date field from string to Date format \ndata = data.reset_index()\ndata['Date'] = pd.to_datetime(data.Date)\n",
   "outputs": [
    {
     "name": "stdout",
     "text": "Total number of days:  494\nTotal number of fields:  6\nNull values: 0\nNA values: False\n",
     "output_type": "stream"
    }
   ],
   "execution_count": null
  },
  {
   "cell_type": "code",
   "metadata": {
    "tags": [],
    "cell_id": "00017-07f7bd87-564b-4669-8e0e-b19d885040c5",
    "deepnote_to_be_reexecuted": false,
    "source_hash": "e6928a8f",
    "execution_start": 1637451162763,
    "execution_millis": 108,
    "deepnote_app_coordinates": {
     "x": 0,
     "y": 52,
     "w": 22,
     "h": 32
    },
    "deepnote_app_is_code_hidden": true,
    "deepnote_cell_type": "code"
   },
   "source": "data",
   "outputs": [
    {
     "output_type": "execute_result",
     "execution_count": 12,
     "data": {
      "application/vnd.deepnote.dataframe.v2+json": {
       "row_count": 494,
       "column_count": 7,
       "columns": [
        {
         "name": "Date",
         "dtype": "datetime64[ns]",
         "stats": {
          "unique_count": 494,
          "nan_count": 0,
          "min": "2019-11-22 00:00:00",
          "max": "2021-11-12 00:00:00",
          "histogram": [
           {
            "bin_start": 1574380800000000000,
            "bin_end": 1580610240000000000,
            "count": 45
           },
           {
            "bin_start": 1580610240000000000,
            "bin_end": 1586839680000000000,
            "count": 50
           },
           {
            "bin_start": 1586839680000000000,
            "bin_end": 1593069120000000000,
            "count": 51
           },
           {
            "bin_start": 1593069120000000000,
            "bin_end": 1599298560000000000,
            "count": 50
           },
           {
            "bin_start": 1599298560000000000,
            "bin_end": 1605528000000000000,
            "count": 50
           },
           {
            "bin_start": 1605528000000000000,
            "bin_end": 1611757440000000000,
            "count": 46
           },
           {
            "bin_start": 1611757440000000000,
            "bin_end": 1617986880000000000,
            "count": 50
           },
           {
            "bin_start": 1617986880000000000,
            "bin_end": 1624216320000000000,
            "count": 49
           },
           {
            "bin_start": 1624216320000000000,
            "bin_end": 1630445760000000000,
            "count": 51
           },
           {
            "bin_start": 1630445760000000000,
            "bin_end": 1636675200000000000,
            "count": 52
           }
          ]
         }
        },
        {
         "name": "High",
         "dtype": "float64",
         "stats": {
          "unique_count": 374,
          "nan_count": 0,
          "min": "308.5",
          "max": "775.0",
          "histogram": [
           {
            "bin_start": 308.5,
            "bin_end": 355.15,
            "count": 120
           },
           {
            "bin_start": 355.15,
            "bin_end": 401.8,
            "count": 105
           },
           {
            "bin_start": 401.8,
            "bin_end": 448.45,
            "count": 45
           },
           {
            "bin_start": 448.45,
            "bin_end": 495.1,
            "count": 5
           },
           {
            "bin_start": 495.1,
            "bin_end": 541.75,
            "count": 47
           },
           {
            "bin_start": 541.75,
            "bin_end": 588.4,
            "count": 106
           },
           {
            "bin_start": 588.4,
            "bin_end": 635.05,
            "count": 9
           },
           {
            "bin_start": 635.05,
            "bin_end": 681.7,
            "count": 26
           },
           {
            "bin_start": 681.7,
            "bin_end": 728.3499999999999,
            "count": 18
           },
           {
            "bin_start": 728.3499999999999,
            "bin_end": 775,
            "count": 13
           }
          ]
         }
        },
        {
         "name": "Low",
         "dtype": "float64",
         "stats": {
          "unique_count": 370,
          "nan_count": 0,
          "min": "300.25",
          "max": "755.0",
          "histogram": [
           {
            "bin_start": 300.25,
            "bin_end": 345.725,
            "count": 118
           },
           {
            "bin_start": 345.725,
            "bin_end": 391.2,
            "count": 105
           },
           {
            "bin_start": 391.2,
            "bin_end": 436.675,
            "count": 46
           },
           {
            "bin_start": 436.675,
            "bin_end": 482.15,
            "count": 7
           },
           {
            "bin_start": 482.15,
            "bin_end": 527.625,
            "count": 40
           },
           {
            "bin_start": 527.625,
            "bin_end": 573.1,
            "count": 113
           },
           {
            "bin_start": 573.1,
            "bin_end": 618.575,
            "count": 9
           },
           {
            "bin_start": 618.575,
            "bin_end": 664.05,
            "count": 31
           },
           {
            "bin_start": 664.05,
            "bin_end": 709.5250000000001,
            "count": 15
           },
           {
            "bin_start": 709.5250000000001,
            "bin_end": 755,
            "count": 10
           }
          ]
         }
        },
        {
         "name": "Open",
         "dtype": "float64",
         "stats": {
          "unique_count": 376,
          "nan_count": 0,
          "min": "302.75",
          "max": "766.75",
          "histogram": [
           {
            "bin_start": 302.75,
            "bin_end": 349.15,
            "count": 118
           },
           {
            "bin_start": 349.15,
            "bin_end": 395.55,
            "count": 105
           },
           {
            "bin_start": 395.55,
            "bin_end": 441.95,
            "count": 47
           },
           {
            "bin_start": 441.95,
            "bin_end": 488.35,
            "count": 7
           },
           {
            "bin_start": 488.35,
            "bin_end": 534.75,
            "count": 48
           },
           {
            "bin_start": 534.75,
            "bin_end": 581.15,
            "count": 106
           },
           {
            "bin_start": 581.15,
            "bin_end": 627.55,
            "count": 8
           },
           {
            "bin_start": 627.55,
            "bin_end": 673.95,
            "count": 27
           },
           {
            "bin_start": 673.95,
            "bin_end": 720.3499999999999,
            "count": 19
           },
           {
            "bin_start": 720.3499999999999,
            "bin_end": 766.75,
            "count": 9
           }
          ]
         }
        },
        {
         "name": "Close",
         "dtype": "float64",
         "stats": {
          "unique_count": 391,
          "nan_count": 0,
          "min": "302.75",
          "max": "772.75",
          "histogram": [
           {
            "bin_start": 302.75,
            "bin_end": 349.75,
            "count": 119
           },
           {
            "bin_start": 349.75,
            "bin_end": 396.75,
            "count": 104
           },
           {
            "bin_start": 396.75,
            "bin_end": 443.75,
            "count": 47
           },
           {
            "bin_start": 443.75,
            "bin_end": 490.75,
            "count": 6
           },
           {
            "bin_start": 490.75,
            "bin_end": 537.75,
            "count": 50
           },
           {
            "bin_start": 537.75,
            "bin_end": 584.75,
            "count": 104
           },
           {
            "bin_start": 584.75,
            "bin_end": 631.75,
            "count": 9
           },
           {
            "bin_start": 631.75,
            "bin_end": 678.75,
            "count": 28
           },
           {
            "bin_start": 678.75,
            "bin_end": 725.75,
            "count": 18
           },
           {
            "bin_start": 725.75,
            "bin_end": 772.75,
            "count": 9
           }
          ]
         }
        },
        {
         "name": "Volume",
         "dtype": "float64",
         "stats": {
          "unique_count": 494,
          "nan_count": 0,
          "min": "91.0",
          "max": "390741.0",
          "histogram": [
           {
            "bin_start": 91,
            "bin_end": 39156,
            "count": 96
           },
           {
            "bin_start": 39156,
            "bin_end": 78221,
            "count": 18
           },
           {
            "bin_start": 78221,
            "bin_end": 117286,
            "count": 73
           },
           {
            "bin_start": 117286,
            "bin_end": 156351,
            "count": 119
           },
           {
            "bin_start": 156351,
            "bin_end": 195416,
            "count": 83
           },
           {
            "bin_start": 195416,
            "bin_end": 234481,
            "count": 60
           },
           {
            "bin_start": 234481,
            "bin_end": 273546,
            "count": 31
           },
           {
            "bin_start": 273546,
            "bin_end": 312611,
            "count": 7
           },
           {
            "bin_start": 312611,
            "bin_end": 351676,
            "count": 5
           },
           {
            "bin_start": 351676,
            "bin_end": 390741,
            "count": 2
           }
          ]
         }
        },
        {
         "name": "Adj Close",
         "dtype": "float64",
         "stats": {
          "unique_count": 391,
          "nan_count": 0,
          "min": "302.75",
          "max": "772.75",
          "histogram": [
           {
            "bin_start": 302.75,
            "bin_end": 349.75,
            "count": 119
           },
           {
            "bin_start": 349.75,
            "bin_end": 396.75,
            "count": 104
           },
           {
            "bin_start": 396.75,
            "bin_end": 443.75,
            "count": 47
           },
           {
            "bin_start": 443.75,
            "bin_end": 490.75,
            "count": 6
           },
           {
            "bin_start": 490.75,
            "bin_end": 537.75,
            "count": 50
           },
           {
            "bin_start": 537.75,
            "bin_end": 584.75,
            "count": 104
           },
           {
            "bin_start": 584.75,
            "bin_end": 631.75,
            "count": 9
           },
           {
            "bin_start": 631.75,
            "bin_end": 678.75,
            "count": 28
           },
           {
            "bin_start": 678.75,
            "bin_end": 725.75,
            "count": 18
           },
           {
            "bin_start": 725.75,
            "bin_end": 772.75,
            "count": 9
           }
          ]
         }
        },
        {
         "name": "_deepnote_index_column",
         "dtype": "int64"
        }
       ],
       "rows_top": [
        {
         "Date": "2019-11-22T00:00:00.000000",
         "High": 370.25,
         "Low": 367.5,
         "Open": 368,
         "Close": 368.75,
         "Volume": 228112,
         "Adj Close": 368.75,
         "_deepnote_index_column": 0
        },
        {
         "Date": "2019-11-25T00:00:00.000000",
         "High": 372.75,
         "Low": 368.25,
         "Open": 368.75,
         "Close": 370.5,
         "Volume": 199301,
         "Adj Close": 370.5,
         "_deepnote_index_column": 1
        },
        {
         "Date": "2019-11-26T00:00:00.000000",
         "High": 370.5,
         "Low": 367,
         "Open": 369.75,
         "Close": 367.5,
         "Volume": 207678,
         "Adj Close": 367.5,
         "_deepnote_index_column": 2
        },
        {
         "Date": "2019-11-27T00:00:00.000000",
         "High": 368.75,
         "Low": 362.25,
         "Open": 367.25,
         "Close": 362.75,
         "Volume": 163967,
         "Adj Close": 362.75,
         "_deepnote_index_column": 3
        },
        {
         "Date": "2019-12-02T00:00:00.000000",
         "High": 375.5,
         "Low": 371,
         "Open": 371.75,
         "Close": 373.5,
         "Volume": 6280,
         "Adj Close": 373.5,
         "_deepnote_index_column": 4
        },
        {
         "Date": "2019-12-03T00:00:00.000000",
         "High": 376,
         "Low": 371.5,
         "Open": 373.75,
         "Close": 372,
         "Volume": 4939,
         "Adj Close": 372,
         "_deepnote_index_column": 5
        },
        {
         "Date": "2019-12-04T00:00:00.000000",
         "High": 373.5,
         "Low": 367.75,
         "Open": 371.75,
         "Close": 368.75,
         "Volume": 2985,
         "Adj Close": 368.75,
         "_deepnote_index_column": 6
        },
        {
         "Date": "2019-12-05T00:00:00.000000",
         "High": 369.75,
         "Low": 365.25,
         "Open": 368.5,
         "Close": 365.5,
         "Volume": 3029,
         "Adj Close": 365.5,
         "_deepnote_index_column": 7
        },
        {
         "Date": "2019-12-06T00:00:00.000000",
         "High": 368.75,
         "Low": 364.75,
         "Open": 364.75,
         "Close": 366.5,
         "Volume": 960,
         "Adj Close": 366.5,
         "_deepnote_index_column": 8
        },
        {
         "Date": "2019-12-09T00:00:00.000000",
         "High": 368,
         "Low": 365,
         "Open": 366.5,
         "Close": 365.75,
         "Volume": 639,
         "Adj Close": 365.75,
         "_deepnote_index_column": 9
        },
        {
         "Date": "2019-12-10T00:00:00.000000",
         "High": 367,
         "Low": 362.5,
         "Open": 365.75,
         "Close": 363.25,
         "Volume": 888,
         "Adj Close": 363.25,
         "_deepnote_index_column": 10
        },
        {
         "Date": "2019-12-11T00:00:00.000000",
         "High": 363,
         "Low": 357,
         "Open": 363,
         "Close": 357.75,
         "Volume": 259,
         "Adj Close": 357.75,
         "_deepnote_index_column": 11
        },
        {
         "Date": "2019-12-12T00:00:00.000000",
         "High": 368.75,
         "Low": 358.25,
         "Open": 358.25,
         "Close": 367,
         "Volume": 664,
         "Adj Close": 367,
         "_deepnote_index_column": 12
        },
        {
         "Date": "2019-12-13T00:00:00.000000",
         "High": 374.5,
         "Low": 366.25,
         "Open": 373.75,
         "Close": 366.25,
         "Volume": 230831,
         "Adj Close": 366.25,
         "_deepnote_index_column": 13
        },
        {
         "Date": "2019-12-16T00:00:00.000000",
         "High": 389.5,
         "Low": 383.25,
         "Open": 383.5,
         "Close": 388,
         "Volume": 180896,
         "Adj Close": 388,
         "_deepnote_index_column": 14
        },
        {
         "Date": "2019-12-17T00:00:00.000000",
         "High": 390.5,
         "Low": 386.25,
         "Open": 387.5,
         "Close": 390,
         "Volume": 118236,
         "Adj Close": 390,
         "_deepnote_index_column": 15
        },
        {
         "Date": "2019-12-18T00:00:00.000000",
         "High": 390,
         "Low": 385.75,
         "Open": 389.25,
         "Close": 387,
         "Volume": 125534,
         "Adj Close": 387,
         "_deepnote_index_column": 16
        },
        {
         "Date": "2019-12-19T00:00:00.000000",
         "High": 389,
         "Low": 385,
         "Open": 387,
         "Close": 386.5,
         "Volume": 99129,
         "Adj Close": 386.5,
         "_deepnote_index_column": 17
        },
        {
         "Date": "2019-12-20T00:00:00.000000",
         "High": 389.5,
         "Low": 386,
         "Open": 386.5,
         "Close": 387.75,
         "Volume": 85326,
         "Adj Close": 387.75,
         "_deepnote_index_column": 18
        },
        {
         "Date": "2019-12-23T00:00:00.000000",
         "High": 390.25,
         "Low": 387.25,
         "Open": 388,
         "Close": 388.75,
         "Volume": 82257,
         "Adj Close": 388.75,
         "_deepnote_index_column": 19
        },
        {
         "Date": "2019-12-26T00:00:00.000000",
         "High": 389,
         "Low": 386.5,
         "Open": 388,
         "Close": 388.5,
         "Volume": 49930,
         "Adj Close": 388.5,
         "_deepnote_index_column": 20
        },
        {
         "Date": "2019-12-27T00:00:00.000000",
         "High": 391,
         "Low": 388,
         "Open": 388,
         "Close": 390,
         "Volume": 85213,
         "Adj Close": 390,
         "_deepnote_index_column": 21
        },
        {
         "Date": "2019-12-30T00:00:00.000000",
         "High": 392,
         "Low": 386.75,
         "Open": 389.25,
         "Close": 388.25,
         "Volume": 123528,
         "Adj Close": 388.25,
         "_deepnote_index_column": 22
        },
        {
         "Date": "2019-12-31T00:00:00.000000",
         "High": 389.75,
         "Low": 386.25,
         "Open": 388.25,
         "Close": 387.75,
         "Volume": 85103,
         "Adj Close": 387.75,
         "_deepnote_index_column": 23
        },
        {
         "Date": "2020-01-02T00:00:00.000000",
         "High": 392,
         "Low": 387.25,
         "Open": 387.75,
         "Close": 391.5,
         "Volume": 103987,
         "Adj Close": 391.5,
         "_deepnote_index_column": 24
        },
        {
         "Date": "2020-01-03T00:00:00.000000",
         "High": 392,
         "Low": 385.5,
         "Open": 391.5,
         "Close": 386.5,
         "Volume": 125931,
         "Adj Close": 386.5,
         "_deepnote_index_column": 25
        },
        {
         "Date": "2020-01-06T00:00:00.000000",
         "High": 387.75,
         "Low": 382.75,
         "Open": 386.25,
         "Close": 384.75,
         "Volume": 112130,
         "Adj Close": 384.75,
         "_deepnote_index_column": 26
        },
        {
         "Date": "2020-01-07T00:00:00.000000",
         "High": 385.75,
         "Low": 383.5,
         "Open": 385,
         "Close": 384.5,
         "Volume": 93541,
         "Adj Close": 384.5,
         "_deepnote_index_column": 27
        },
        {
         "Date": "2020-01-08T00:00:00.000000",
         "High": 385.5,
         "Low": 382.25,
         "Open": 384,
         "Close": 384.25,
         "Volume": 135523,
         "Adj Close": 384.25,
         "_deepnote_index_column": 28
        },
        {
         "Date": "2020-01-09T00:00:00.000000",
         "High": 387,
         "Low": 382.25,
         "Open": 383.75,
         "Close": 383.25,
         "Volume": 130937,
         "Adj Close": 383.25,
         "_deepnote_index_column": 29
        },
        {
         "Date": "2020-01-10T00:00:00.000000",
         "High": 386.75,
         "Low": 376.5,
         "Open": 383.25,
         "Close": 385.75,
         "Volume": 226659,
         "Adj Close": 385.75,
         "_deepnote_index_column": 30
        },
        {
         "Date": "2020-01-13T00:00:00.000000",
         "High": 389.5,
         "Low": 385.5,
         "Open": 386.5,
         "Close": 389.5,
         "Volume": 139994,
         "Adj Close": 389.5,
         "_deepnote_index_column": 31
        },
        {
         "Date": "2020-01-14T00:00:00.000000",
         "High": 390.5,
         "Low": 388.25,
         "Open": 389.25,
         "Close": 389,
         "Volume": 115957,
         "Adj Close": 389,
         "_deepnote_index_column": 32
        },
        {
         "Date": "2020-01-15T00:00:00.000000",
         "High": 390.25,
         "Low": 386.5,
         "Open": 388.75,
         "Close": 387.5,
         "Volume": 141478,
         "Adj Close": 387.5,
         "_deepnote_index_column": 33
        },
        {
         "Date": "2020-01-16T00:00:00.000000",
         "High": 387.75,
         "Low": 375.25,
         "Open": 387.25,
         "Close": 375.5,
         "Volume": 230557,
         "Adj Close": 375.5,
         "_deepnote_index_column": 34
        },
        {
         "Date": "2020-01-17T00:00:00.000000",
         "High": 389.5,
         "Low": 376.75,
         "Open": 377,
         "Close": 389.25,
         "Volume": 293121,
         "Adj Close": 389.25,
         "_deepnote_index_column": 35
        },
        {
         "Date": "2020-01-21T00:00:00.000000",
         "High": 389.25,
         "Low": 384.25,
         "Open": 389,
         "Close": 387.5,
         "Volume": 182958,
         "Adj Close": 387.5,
         "_deepnote_index_column": 36
        },
        {
         "Date": "2020-01-22T00:00:00.000000",
         "High": 391,
         "Low": 386.75,
         "Open": 387.5,
         "Close": 388.75,
         "Volume": 155603,
         "Adj Close": 388.75,
         "_deepnote_index_column": 37
        },
        {
         "Date": "2020-01-23T00:00:00.000000",
         "High": 394,
         "Low": 387.5,
         "Open": 388.5,
         "Close": 393.75,
         "Volume": 256298,
         "Adj Close": 393.75,
         "_deepnote_index_column": 38
        },
        {
         "Date": "2020-01-24T00:00:00.000000",
         "High": 393.25,
         "Low": 386.5,
         "Open": 393.25,
         "Close": 387.25,
         "Volume": 196121,
         "Adj Close": 387.25,
         "_deepnote_index_column": 39
        },
        {
         "Date": "2020-01-27T00:00:00.000000",
         "High": 384.75,
         "Low": 377.25,
         "Open": 384.25,
         "Close": 380.5,
         "Volume": 264471,
         "Adj Close": 380.5,
         "_deepnote_index_column": 40
        },
        {
         "Date": "2020-01-28T00:00:00.000000",
         "High": 387,
         "Low": 378.5,
         "Open": 382.5,
         "Close": 386.5,
         "Volume": 243266,
         "Adj Close": 386.5,
         "_deepnote_index_column": 41
        },
        {
         "Date": "2020-01-29T00:00:00.000000",
         "High": 388.25,
         "Low": 382.75,
         "Open": 385.5,
         "Close": 384.25,
         "Volume": 136811,
         "Adj Close": 384.25,
         "_deepnote_index_column": 42
        },
        {
         "Date": "2020-01-30T00:00:00.000000",
         "High": 385,
         "Low": 378.5,
         "Open": 384.5,
         "Close": 379.5,
         "Volume": 160206,
         "Adj Close": 379.5,
         "_deepnote_index_column": 43
        },
        {
         "Date": "2020-01-31T00:00:00.000000",
         "High": 382.75,
         "Low": 378.75,
         "Open": 381.5,
         "Close": 381.25,
         "Volume": 151805,
         "Adj Close": 381.25,
         "_deepnote_index_column": 44
        },
        {
         "Date": "2020-02-03T00:00:00.000000",
         "High": 382,
         "Low": 376.5,
         "Open": 380.5,
         "Close": 378.75,
         "Volume": 216443,
         "Adj Close": 378.75,
         "_deepnote_index_column": 45
        },
        {
         "Date": "2020-02-04T00:00:00.000000",
         "High": 383.5,
         "Low": 378.25,
         "Open": 378.25,
         "Close": 382.25,
         "Volume": 176002,
         "Adj Close": 382.25,
         "_deepnote_index_column": 46
        },
        {
         "Date": "2020-02-05T00:00:00.000000",
         "High": 383.25,
         "Low": 379.5,
         "Open": 381.5,
         "Close": 380.75,
         "Volume": 122103,
         "Adj Close": 380.75,
         "_deepnote_index_column": 47
        },
        {
         "Date": "2020-02-06T00:00:00.000000",
         "High": 381.75,
         "Low": 376,
         "Open": 380.25,
         "Close": 379.25,
         "Volume": 191891,
         "Adj Close": 379.25,
         "_deepnote_index_column": 48
        },
        {
         "Date": "2020-02-07T00:00:00.000000",
         "High": 385,
         "Low": 380,
         "Open": 380.25,
         "Close": 383.5,
         "Volume": 256721,
         "Adj Close": 383.5,
         "_deepnote_index_column": 49
        },
        {
         "Date": "2020-02-10T00:00:00.000000",
         "High": 383.5,
         "Low": 379,
         "Open": 383.25,
         "Close": 381.75,
         "Volume": 219017,
         "Adj Close": 381.75,
         "_deepnote_index_column": 50
        },
        {
         "Date": "2020-02-11T00:00:00.000000",
         "High": 382,
         "Low": 378,
         "Open": 381,
         "Close": 379.75,
         "Volume": 200407,
         "Adj Close": 379.75,
         "_deepnote_index_column": 51
        },
        {
         "Date": "2020-02-12T00:00:00.000000",
         "High": 383.75,
         "Low": 378.25,
         "Open": 379.75,
         "Close": 383,
         "Volume": 241461,
         "Adj Close": 383,
         "_deepnote_index_column": 52
        },
        {
         "Date": "2020-02-13T00:00:00.000000",
         "High": 382.75,
         "Low": 379,
         "Open": 382.25,
         "Close": 379.5,
         "Volume": 202459,
         "Adj Close": 379.5,
         "_deepnote_index_column": 53
        },
        {
         "Date": "2020-02-14T00:00:00.000000",
         "High": 381.5,
         "Low": 376.25,
         "Open": 379.5,
         "Close": 377.75,
         "Volume": 216864,
         "Adj Close": 377.75,
         "_deepnote_index_column": 54
        },
        {
         "Date": "2020-02-18T00:00:00.000000",
         "High": 383.25,
         "Low": 378,
         "Open": 378.5,
         "Close": 383,
         "Volume": 215110,
         "Adj Close": 383,
         "_deepnote_index_column": 55
        },
        {
         "Date": "2020-02-19T00:00:00.000000",
         "High": 382.75,
         "Low": 378.5,
         "Open": 382.25,
         "Close": 380.5,
         "Volume": 172265,
         "Adj Close": 380.5,
         "_deepnote_index_column": 56
        },
        {
         "Date": "2020-02-20T00:00:00.000000",
         "High": 381.25,
         "Low": 378,
         "Open": 380.75,
         "Close": 378.5,
         "Volume": 173142,
         "Adj Close": 378.5,
         "_deepnote_index_column": 57
        },
        {
         "Date": "2020-02-21T00:00:00.000000",
         "High": 380.5,
         "Low": 376.25,
         "Open": 378.25,
         "Close": 377,
         "Volume": 169068,
         "Adj Close": 377,
         "_deepnote_index_column": 58
        },
        {
         "Date": "2020-02-24T00:00:00.000000",
         "High": 376.25,
         "Low": 370,
         "Open": 376.25,
         "Close": 372.25,
         "Volume": 170528,
         "Adj Close": 372.25,
         "_deepnote_index_column": 59
        },
        {
         "Date": "2020-02-25T00:00:00.000000",
         "High": 374.75,
         "Low": 371.25,
         "Open": 373,
         "Close": 372.5,
         "Volume": 119868,
         "Adj Close": 372.5,
         "_deepnote_index_column": 60
        },
        {
         "Date": "2020-02-26T00:00:00.000000",
         "High": 374,
         "Low": 368.25,
         "Open": 372,
         "Close": 370.5,
         "Volume": 268795,
         "Adj Close": 370.5,
         "_deepnote_index_column": 61
        },
        {
         "Date": "2020-02-27T00:00:00.000000",
         "High": 370,
         "Low": 361.75,
         "Open": 369.75,
         "Close": 364.5,
         "Volume": 156142,
         "Adj Close": 364.5,
         "_deepnote_index_column": 62
        },
        {
         "Date": "2020-02-28T00:00:00.000000",
         "High": 367.25,
         "Low": 362.75,
         "Open": 364.5,
         "Close": 366.5,
         "Volume": 18809,
         "Adj Close": 366.5,
         "_deepnote_index_column": 63
        },
        {
         "Date": "2020-03-02T00:00:00.000000",
         "High": 375.75,
         "Low": 366,
         "Open": 366.5,
         "Close": 374.75,
         "Volume": 6092,
         "Adj Close": 374.75,
         "_deepnote_index_column": 64
        },
        {
         "Date": "2020-03-03T00:00:00.000000",
         "High": 383.75,
         "Low": 375.75,
         "Open": 375.75,
         "Close": 381.75,
         "Volume": 3194,
         "Adj Close": 381.75,
         "_deepnote_index_column": 65
        },
        {
         "Date": "2020-03-04T00:00:00.000000",
         "High": 388.5,
         "Low": 380,
         "Open": 382,
         "Close": 387,
         "Volume": 3275,
         "Adj Close": 387,
         "_deepnote_index_column": 66
        },
        {
         "Date": "2020-03-05T00:00:00.000000",
         "High": 387.5,
         "Low": 382,
         "Open": 387.5,
         "Close": 384.5,
         "Volume": 1830,
         "Adj Close": 384.5,
         "_deepnote_index_column": 67
        },
        {
         "Date": "2020-03-06T00:00:00.000000",
         "High": 385.5,
         "Low": 377,
         "Open": 383.75,
         "Close": 377.25,
         "Volume": 1277,
         "Adj Close": 377.25,
         "_deepnote_index_column": 68
        },
        {
         "Date": "2020-03-09T00:00:00.000000",
         "High": 377.5,
         "Low": 368.5,
         "Open": 372,
         "Close": 374.25,
         "Volume": 921,
         "Adj Close": 374.25,
         "_deepnote_index_column": 69
        },
        {
         "Date": "2020-03-10T00:00:00.000000",
         "High": 381.5,
         "Low": 377.5,
         "Open": 379,
         "Close": 380,
         "Volume": 605,
         "Adj Close": 380,
         "_deepnote_index_column": 70
        }
       ],
       "rows_bottom": [
        {
         "Date": "2021-08-05T00:00:00.000000",
         "High": 560.75,
         "Low": 545.75,
         "Open": 546.75,
         "Close": 555.75,
         "Volume": 92967,
         "Adj Close": 555.75,
         "_deepnote_index_column": 423
        },
        {
         "Date": "2021-08-06T00:00:00.000000",
         "High": 560.5,
         "Low": 548.75,
         "Open": 555,
         "Close": 555,
         "Volume": 142762,
         "Adj Close": 555,
         "_deepnote_index_column": 424
        },
        {
         "Date": "2021-08-09T00:00:00.000000",
         "High": 556,
         "Low": 547,
         "Open": 554,
         "Close": 550.25,
         "Volume": 144339,
         "Adj Close": 550.25,
         "_deepnote_index_column": 425
        },
        {
         "Date": "2021-08-10T00:00:00.000000",
         "High": 550.25,
         "Low": 544,
         "Open": 548.5,
         "Close": 549.25,
         "Volume": 143634,
         "Adj Close": 549.25,
         "_deepnote_index_column": 426
        },
        {
         "Date": "2021-08-11T00:00:00.000000",
         "High": 558.5,
         "Low": 548.25,
         "Open": 548.75,
         "Close": 556.25,
         "Volume": 184260,
         "Adj Close": 556.25,
         "_deepnote_index_column": 427
        },
        {
         "Date": "2021-08-12T00:00:00.000000",
         "High": 589.5,
         "Low": 548.5,
         "Open": 554.75,
         "Close": 567,
         "Volume": 247372,
         "Adj Close": 567,
         "_deepnote_index_column": 428
        },
        {
         "Date": "2021-08-13T00:00:00.000000",
         "High": 575,
         "Low": 559,
         "Open": 566.75,
         "Close": 568.25,
         "Volume": 97466,
         "Adj Close": 568.25,
         "_deepnote_index_column": 429
        },
        {
         "Date": "2021-08-16T00:00:00.000000",
         "High": 572,
         "Low": 561,
         "Open": 568.25,
         "Close": 564.75,
         "Volume": 60693,
         "Adj Close": 564.75,
         "_deepnote_index_column": 430
        },
        {
         "Date": "2021-08-17T00:00:00.000000",
         "High": 569.5,
         "Low": 556.25,
         "Open": 567.5,
         "Close": 558.25,
         "Volume": 67739,
         "Adj Close": 558.25,
         "_deepnote_index_column": 431
        },
        {
         "Date": "2021-08-18T00:00:00.000000",
         "High": 563.5,
         "Low": 556.5,
         "Open": 559,
         "Close": 561.75,
         "Volume": 64048,
         "Adj Close": 561.75,
         "_deepnote_index_column": 432
        },
        {
         "Date": "2021-08-19T00:00:00.000000",
         "High": 560.5,
         "Low": 546.75,
         "Open": 560.5,
         "Close": 550,
         "Volume": 90493,
         "Adj Close": 550,
         "_deepnote_index_column": 433
        },
        {
         "Date": "2021-08-20T00:00:00.000000",
         "High": 554.25,
         "Low": 533.25,
         "Open": 550.25,
         "Close": 538.75,
         "Volume": 83003,
         "Adj Close": 538.75,
         "_deepnote_index_column": 434
        },
        {
         "Date": "2021-08-23T00:00:00.000000",
         "High": 544.25,
         "Low": 531.5,
         "Open": 536,
         "Close": 538,
         "Volume": 50271,
         "Adj Close": 538,
         "_deepnote_index_column": 435
        },
        {
         "Date": "2021-08-24T00:00:00.000000",
         "High": 546.5,
         "Low": 537,
         "Open": 539.5,
         "Close": 544.5,
         "Volume": 82653,
         "Adj Close": 544.5,
         "_deepnote_index_column": 436
        },
        {
         "Date": "2021-08-25T00:00:00.000000",
         "High": 555,
         "Low": 541.25,
         "Open": 544.5,
         "Close": 551.25,
         "Volume": 80083,
         "Adj Close": 551.25,
         "_deepnote_index_column": 437
        },
        {
         "Date": "2021-08-26T00:00:00.000000",
         "High": 555.75,
         "Low": 548,
         "Open": 550,
         "Close": 552.75,
         "Volume": 73859,
         "Adj Close": 552.75,
         "_deepnote_index_column": 438
        },
        {
         "Date": "2021-08-27T00:00:00.000000",
         "High": 558.75,
         "Low": 548.75,
         "Open": 553,
         "Close": 558,
         "Volume": 107357,
         "Adj Close": 558,
         "_deepnote_index_column": 439
        },
        {
         "Date": "2021-08-30T00:00:00.000000",
         "High": 560,
         "Low": 531.5,
         "Open": 557.25,
         "Close": 540.25,
         "Volume": 73569,
         "Adj Close": 540.25,
         "_deepnote_index_column": 440
        },
        {
         "Date": "2021-08-31T00:00:00.000000",
         "High": 542,
         "Low": 524,
         "Open": 540,
         "Close": 534,
         "Volume": 8135,
         "Adj Close": 534,
         "_deepnote_index_column": 441
        },
        {
         "Date": "2021-09-01T00:00:00.000000",
         "High": 535,
         "Low": 514.25,
         "Open": 534,
         "Close": 515.5,
         "Volume": 5192,
         "Adj Close": 515.5,
         "_deepnote_index_column": 442
        },
        {
         "Date": "2021-09-02T00:00:00.000000",
         "High": 521,
         "Low": 510,
         "Open": 515.5,
         "Close": 516.25,
         "Volume": 1319,
         "Adj Close": 516.25,
         "_deepnote_index_column": 443
        },
        {
         "Date": "2021-09-03T00:00:00.000000",
         "High": 518.25,
         "Low": 506.75,
         "Open": 516.75,
         "Close": 508,
         "Volume": 967,
         "Adj Close": 508,
         "_deepnote_index_column": 444
        },
        {
         "Date": "2021-09-07T00:00:00.000000",
         "High": 509,
         "Low": 495.75,
         "Open": 509,
         "Close": 495.75,
         "Volume": 734,
         "Adj Close": 495.75,
         "_deepnote_index_column": 445
        },
        {
         "Date": "2021-09-08T00:00:00.000000",
         "High": 504,
         "Low": 495,
         "Open": 497.5,
         "Close": 498.25,
         "Volume": 451,
         "Adj Close": 498.25,
         "_deepnote_index_column": 446
        },
        {
         "Date": "2021-09-09T00:00:00.000000",
         "High": 500,
         "Low": 494.5,
         "Open": 498.5,
         "Close": 496,
         "Volume": 164,
         "Adj Close": 496,
         "_deepnote_index_column": 447
        },
        {
         "Date": "2021-09-10T00:00:00.000000",
         "High": 505,
         "Low": 487.75,
         "Open": 499,
         "Close": 502.75,
         "Volume": 370,
         "Adj Close": 502.75,
         "_deepnote_index_column": 448
        },
        {
         "Date": "2021-09-13T00:00:00.000000",
         "High": 503.5,
         "Low": 493,
         "Open": 503.5,
         "Close": 496.75,
         "Volume": 313,
         "Adj Close": 496.75,
         "_deepnote_index_column": 449
        },
        {
         "Date": "2021-09-14T00:00:00.000000",
         "High": 503,
         "Low": 497,
         "Open": 497,
         "Close": 503,
         "Volume": 114271,
         "Adj Close": 503,
         "_deepnote_index_column": 450
        },
        {
         "Date": "2021-09-15T00:00:00.000000",
         "High": 534.5,
         "Low": 520.5,
         "Open": 520.75,
         "Close": 533.5,
         "Volume": 152827,
         "Adj Close": 533.5,
         "_deepnote_index_column": 451
        },
        {
         "Date": "2021-09-16T00:00:00.000000",
         "High": 537.5,
         "Low": 528,
         "Open": 533.5,
         "Close": 529.5,
         "Volume": 118905,
         "Adj Close": 529.5,
         "_deepnote_index_column": 452
        },
        {
         "Date": "2021-09-17T00:00:00.000000",
         "High": 530.5,
         "Low": 521.75,
         "Open": 529,
         "Close": 527.25,
         "Volume": 109533,
         "Adj Close": 527.25,
         "_deepnote_index_column": 453
        },
        {
         "Date": "2021-09-20T00:00:00.000000",
         "High": 527,
         "Low": 515.25,
         "Open": 527,
         "Close": 521.75,
         "Volume": 125356,
         "Adj Close": 521.75,
         "_deepnote_index_column": 454
        },
        {
         "Date": "2021-09-21T00:00:00.000000",
         "High": 522.75,
         "Low": 512.75,
         "Open": 522,
         "Close": 517,
         "Volume": 119145,
         "Adj Close": 517,
         "_deepnote_index_column": 455
        },
        {
         "Date": "2021-09-22T00:00:00.000000",
         "High": 526.25,
         "Low": 516,
         "Open": 517,
         "Close": 525.5,
         "Volume": 112326,
         "Adj Close": 525.5,
         "_deepnote_index_column": 456
        },
        {
         "Date": "2021-09-23T00:00:00.000000",
         "High": 531,
         "Low": 520.25,
         "Open": 524.5,
         "Close": 529.25,
         "Volume": 95990,
         "Adj Close": 529.25,
         "_deepnote_index_column": 457
        },
        {
         "Date": "2021-09-24T00:00:00.000000",
         "High": 528.75,
         "Low": 524,
         "Open": 528.5,
         "Close": 526.75,
         "Volume": 93098,
         "Adj Close": 526.75,
         "_deepnote_index_column": 458
        },
        {
         "Date": "2021-09-27T00:00:00.000000",
         "High": 540,
         "Low": 524,
         "Open": 524.75,
         "Close": 539.5,
         "Volume": 144946,
         "Adj Close": 539.5,
         "_deepnote_index_column": 459
        },
        {
         "Date": "2021-09-28T00:00:00.000000",
         "High": 541.75,
         "Low": 532,
         "Open": 538.75,
         "Close": 532.5,
         "Volume": 125830,
         "Adj Close": 532.5,
         "_deepnote_index_column": 460
        },
        {
         "Date": "2021-09-29T00:00:00.000000",
         "High": 541,
         "Low": 533.5,
         "Open": 533.5,
         "Close": 539,
         "Volume": 107220,
         "Adj Close": 539,
         "_deepnote_index_column": 461
        },
        {
         "Date": "2021-09-30T00:00:00.000000",
         "High": 548.5,
         "Low": 527.25,
         "Open": 539,
         "Close": 536.75,
         "Volume": 222135,
         "Adj Close": 536.75,
         "_deepnote_index_column": 462
        },
        {
         "Date": "2021-10-01T00:00:00.000000",
         "High": 545.25,
         "Low": 532,
         "Open": 536.75,
         "Close": 541.5,
         "Volume": 135599,
         "Adj Close": 541.5,
         "_deepnote_index_column": 463
        },
        {
         "Date": "2021-10-04T00:00:00.000000",
         "High": 547.5,
         "Low": 536,
         "Open": 540,
         "Close": 540.75,
         "Volume": 132923,
         "Adj Close": 540.75,
         "_deepnote_index_column": 464
        },
        {
         "Date": "2021-10-05T00:00:00.000000",
         "High": 543,
         "Low": 535.25,
         "Open": 540,
         "Close": 537.5,
         "Volume": 119598,
         "Adj Close": 537.5,
         "_deepnote_index_column": 465
        },
        {
         "Date": "2021-10-06T00:00:00.000000",
         "High": 544.75,
         "Low": 531.5,
         "Open": 537,
         "Close": 532.25,
         "Volume": 126943,
         "Adj Close": 532.25,
         "_deepnote_index_column": 466
        },
        {
         "Date": "2021-10-07T00:00:00.000000",
         "High": 535.25,
         "Low": 527.5,
         "Open": 532.75,
         "Close": 534,
         "Volume": 104997,
         "Adj Close": 534,
         "_deepnote_index_column": 467
        },
        {
         "Date": "2021-10-08T00:00:00.000000",
         "High": 538.75,
         "Low": 530,
         "Open": 533.25,
         "Close": 530.5,
         "Volume": 95481,
         "Adj Close": 530.5,
         "_deepnote_index_column": 468
        },
        {
         "Date": "2021-10-11T00:00:00.000000",
         "High": 534,
         "Low": 528.75,
         "Open": 530,
         "Close": 533,
         "Volume": 104166,
         "Adj Close": 533,
         "_deepnote_index_column": 469
        },
        {
         "Date": "2021-10-12T00:00:00.000000",
         "High": 533,
         "Low": 519.25,
         "Open": 532.75,
         "Close": 522.5,
         "Volume": 196596,
         "Adj Close": 522.5,
         "_deepnote_index_column": 470
        },
        {
         "Date": "2021-10-13T00:00:00.000000",
         "High": 525.25,
         "Low": 506.75,
         "Open": 523,
         "Close": 512.25,
         "Volume": 203330,
         "Adj Close": 512.25,
         "_deepnote_index_column": 471
        },
        {
         "Date": "2021-10-14T00:00:00.000000",
         "High": 518.25,
         "Low": 511,
         "Open": 512.25,
         "Close": 516.75,
         "Volume": 140335,
         "Adj Close": 516.75,
         "_deepnote_index_column": 472
        },
        {
         "Date": "2021-10-15T00:00:00.000000",
         "High": 528.5,
         "Low": 514.25,
         "Open": 516.25,
         "Close": 525.75,
         "Volume": 130243,
         "Adj Close": 525.75,
         "_deepnote_index_column": 473
        },
        {
         "Date": "2021-10-18T00:00:00.000000",
         "High": 533.75,
         "Low": 523,
         "Open": 525.75,
         "Close": 532.75,
         "Volume": 119583,
         "Adj Close": 532.75,
         "_deepnote_index_column": 474
        },
        {
         "Date": "2021-10-19T00:00:00.000000",
         "High": 537,
         "Low": 529.5,
         "Open": 532,
         "Close": 530.25,
         "Volume": 119081,
         "Adj Close": 530.25,
         "_deepnote_index_column": 475
        },
        {
         "Date": "2021-10-20T00:00:00.000000",
         "High": 540,
         "Low": 528.5,
         "Open": 530,
         "Close": 539.25,
         "Volume": 129884,
         "Adj Close": 539.25,
         "_deepnote_index_column": 476
        },
        {
         "Date": "2021-10-21T00:00:00.000000",
         "High": 540,
         "Low": 530.75,
         "Open": 539,
         "Close": 532.25,
         "Volume": 119388,
         "Adj Close": 532.25,
         "_deepnote_index_column": 477
        },
        {
         "Date": "2021-10-22T00:00:00.000000",
         "High": 540,
         "Low": 532,
         "Open": 533,
         "Close": 538,
         "Volume": 109345,
         "Adj Close": 538,
         "_deepnote_index_column": 478
        },
        {
         "Date": "2021-10-25T00:00:00.000000",
         "High": 542,
         "Low": 535,
         "Open": 537,
         "Close": 538,
         "Volume": 107050,
         "Adj Close": 538,
         "_deepnote_index_column": 479
        },
        {
         "Date": "2021-10-26T00:00:00.000000",
         "High": 547.25,
         "Low": 533,
         "Open": 538,
         "Close": 543.5,
         "Volume": 146995,
         "Adj Close": 543.5,
         "_deepnote_index_column": 480
        },
        {
         "Date": "2021-10-27T00:00:00.000000",
         "High": 563.25,
         "Low": 539.5,
         "Open": 542.5,
         "Close": 557.25,
         "Volume": 241141,
         "Adj Close": 557.25,
         "_deepnote_index_column": 481
        },
        {
         "Date": "2021-10-28T00:00:00.000000",
         "High": 568.75,
         "Low": 554,
         "Open": 556.5,
         "Close": 562.75,
         "Volume": 164258,
         "Adj Close": 562.75,
         "_deepnote_index_column": 482
        },
        {
         "Date": "2021-10-29T00:00:00.000000",
         "High": 569.25,
         "Low": 558.75,
         "Open": 562.5,
         "Close": 568.25,
         "Volume": 135195,
         "Adj Close": 568.25,
         "_deepnote_index_column": 483
        },
        {
         "Date": "2021-11-01T00:00:00.000000",
         "High": 582,
         "Low": 565.25,
         "Open": 568,
         "Close": 579,
         "Volume": 197409,
         "Adj Close": 579,
         "_deepnote_index_column": 484
        },
        {
         "Date": "2021-11-02T00:00:00.000000",
         "High": 586,
         "Low": 572,
         "Open": 578.25,
         "Close": 573,
         "Volume": 174067,
         "Adj Close": 573,
         "_deepnote_index_column": 485
        },
        {
         "Date": "2021-11-03T00:00:00.000000",
         "High": 573.25,
         "Low": 563,
         "Open": 572,
         "Close": 564,
         "Volume": 149892,
         "Adj Close": 564,
         "_deepnote_index_column": 486
        },
        {
         "Date": "2021-11-04T00:00:00.000000",
         "High": 569.75,
         "Low": 556.5,
         "Open": 563.75,
         "Close": 559.25,
         "Volume": 149483,
         "Adj Close": 559.25,
         "_deepnote_index_column": 487
        },
        {
         "Date": "2021-11-05T00:00:00.000000",
         "High": 562.75,
         "Low": 552.25,
         "Open": 560,
         "Close": 553,
         "Volume": 192123,
         "Adj Close": 553,
         "_deepnote_index_column": 488
        },
        {
         "Date": "2021-11-08T00:00:00.000000",
         "High": 554.75,
         "Low": 549.5,
         "Open": 552,
         "Close": 551.5,
         "Volume": 166976,
         "Adj Close": 551.5,
         "_deepnote_index_column": 489
        },
        {
         "Date": "2021-11-09T00:00:00.000000",
         "High": 564,
         "Low": 547.75,
         "Open": 551,
         "Close": 554.75,
         "Volume": 246899,
         "Adj Close": 554.75,
         "_deepnote_index_column": 490
        },
        {
         "Date": "2021-11-10T00:00:00.000000",
         "High": 571.75,
         "Low": 555,
         "Open": 555.5,
         "Close": 569.25,
         "Volume": 209267,
         "Adj Close": 569.25,
         "_deepnote_index_column": 491
        },
        {
         "Date": "2021-11-11T00:00:00.000000",
         "High": 579,
         "Low": 566,
         "Open": 567.75,
         "Close": 569.5,
         "Volume": 264523,
         "Adj Close": 569.5,
         "_deepnote_index_column": 492
        },
        {
         "Date": "2021-11-12T00:00:00.000000",
         "High": 582,
         "Low": 566.75,
         "Open": 569.25,
         "Close": 577.25,
         "Volume": 163539,
         "Adj Close": 577.25,
         "_deepnote_index_column": 493
        }
       ]
      },
      "text/plain": "          Date    High     Low    Open   Close    Volume  Adj Close\n0   2019-11-22  370.25  367.50  368.00  368.75  228112.0     368.75\n1   2019-11-25  372.75  368.25  368.75  370.50  199301.0     370.50\n2   2019-11-26  370.50  367.00  369.75  367.50  207678.0     367.50\n3   2019-11-27  368.75  362.25  367.25  362.75  163967.0     362.75\n4   2019-12-02  375.50  371.00  371.75  373.50    6280.0     373.50\n..         ...     ...     ...     ...     ...       ...        ...\n489 2021-11-08  554.75  549.50  552.00  551.50  166976.0     551.50\n490 2021-11-09  564.00  547.75  551.00  554.75  246899.0     554.75\n491 2021-11-10  571.75  555.00  555.50  569.25  209267.0     569.25\n492 2021-11-11  579.00  566.00  567.75  569.50  264523.0     569.50\n493 2021-11-12  582.00  566.75  569.25  577.25  163539.0     577.25\n\n[494 rows x 7 columns]",
      "text/html": "<div>\n<style scoped>\n    .dataframe tbody tr th:only-of-type {\n        vertical-align: middle;\n    }\n\n    .dataframe tbody tr th {\n        vertical-align: top;\n    }\n\n    .dataframe thead th {\n        text-align: right;\n    }\n</style>\n<table border=\"1\" class=\"dataframe\">\n  <thead>\n    <tr style=\"text-align: right;\">\n      <th></th>\n      <th>Date</th>\n      <th>High</th>\n      <th>Low</th>\n      <th>Open</th>\n      <th>Close</th>\n      <th>Volume</th>\n      <th>Adj Close</th>\n    </tr>\n  </thead>\n  <tbody>\n    <tr>\n      <th>0</th>\n      <td>2019-11-22</td>\n      <td>370.25</td>\n      <td>367.50</td>\n      <td>368.00</td>\n      <td>368.75</td>\n      <td>228112.0</td>\n      <td>368.75</td>\n    </tr>\n    <tr>\n      <th>1</th>\n      <td>2019-11-25</td>\n      <td>372.75</td>\n      <td>368.25</td>\n      <td>368.75</td>\n      <td>370.50</td>\n      <td>199301.0</td>\n      <td>370.50</td>\n    </tr>\n    <tr>\n      <th>2</th>\n      <td>2019-11-26</td>\n      <td>370.50</td>\n      <td>367.00</td>\n      <td>369.75</td>\n      <td>367.50</td>\n      <td>207678.0</td>\n      <td>367.50</td>\n    </tr>\n    <tr>\n      <th>3</th>\n      <td>2019-11-27</td>\n      <td>368.75</td>\n      <td>362.25</td>\n      <td>367.25</td>\n      <td>362.75</td>\n      <td>163967.0</td>\n      <td>362.75</td>\n    </tr>\n    <tr>\n      <th>4</th>\n      <td>2019-12-02</td>\n      <td>375.50</td>\n      <td>371.00</td>\n      <td>371.75</td>\n      <td>373.50</td>\n      <td>6280.0</td>\n      <td>373.50</td>\n    </tr>\n    <tr>\n      <th>...</th>\n      <td>...</td>\n      <td>...</td>\n      <td>...</td>\n      <td>...</td>\n      <td>...</td>\n      <td>...</td>\n      <td>...</td>\n    </tr>\n    <tr>\n      <th>489</th>\n      <td>2021-11-08</td>\n      <td>554.75</td>\n      <td>549.50</td>\n      <td>552.00</td>\n      <td>551.50</td>\n      <td>166976.0</td>\n      <td>551.50</td>\n    </tr>\n    <tr>\n      <th>490</th>\n      <td>2021-11-09</td>\n      <td>564.00</td>\n      <td>547.75</td>\n      <td>551.00</td>\n      <td>554.75</td>\n      <td>246899.0</td>\n      <td>554.75</td>\n    </tr>\n    <tr>\n      <th>491</th>\n      <td>2021-11-10</td>\n      <td>571.75</td>\n      <td>555.00</td>\n      <td>555.50</td>\n      <td>569.25</td>\n      <td>209267.0</td>\n      <td>569.25</td>\n    </tr>\n    <tr>\n      <th>492</th>\n      <td>2021-11-11</td>\n      <td>579.00</td>\n      <td>566.00</td>\n      <td>567.75</td>\n      <td>569.50</td>\n      <td>264523.0</td>\n      <td>569.50</td>\n    </tr>\n    <tr>\n      <th>493</th>\n      <td>2021-11-12</td>\n      <td>582.00</td>\n      <td>566.75</td>\n      <td>569.25</td>\n      <td>577.25</td>\n      <td>163539.0</td>\n      <td>577.25</td>\n    </tr>\n  </tbody>\n</table>\n<p>494 rows × 7 columns</p>\n</div>"
     },
     "metadata": {}
    }
   ],
   "execution_count": null
  },
  {
   "cell_type": "code",
   "metadata": {
    "execution": {
     "iopub.status.busy": "2021-11-19T22:54:54.325586Z",
     "iopub.execute_input": "2021-11-19T22:54:54.326200Z",
     "iopub.status.idle": "2021-11-19T22:54:54.335635Z",
     "shell.execute_reply.started": "2021-11-19T22:54:54.326157Z",
     "shell.execute_reply": "2021-11-19T22:54:54.334781Z"
    },
    "trusted": true,
    "cell_id": "00005-1edb6260-90f8-43be-9d34-33f6c49d382f",
    "deepnote_to_be_reexecuted": false,
    "source_hash": "55154de2",
    "execution_start": 1637451162885,
    "execution_millis": 13,
    "deepnote_cell_type": "code"
   },
   "source": "closedf = data[['Date','Close']]",
   "outputs": [],
   "execution_count": null
  },
  {
   "cell_type": "markdown",
   "source": "### С какой даты учитывать прогноз?",
   "metadata": {
    "cell_id": "00006-056d89be-c2bb-4ff6-8275-ff01cc7b0afb",
    "deepnote_cell_type": "markdown"
   }
  },
  {
   "cell_type": "code",
   "metadata": {
    "execution": {
     "iopub.status.busy": "2021-11-19T22:54:54.336803Z",
     "iopub.execute_input": "2021-11-19T22:54:54.337190Z",
     "iopub.status.idle": "2021-11-19T22:54:54.350009Z",
     "shell.execute_reply.started": "2021-11-19T22:54:54.337161Z",
     "shell.execute_reply": "2021-11-19T22:54:54.349101Z"
    },
    "trusted": true,
    "cell_id": "00007-536ce8e7-bbb0-48e6-93f7-ea2ea0fc7c80",
    "deepnote_to_be_reexecuted": false,
    "source_hash": "c2b83a0e",
    "execution_start": 1637451162937,
    "execution_millis": 2,
    "deepnote_cell_type": "code"
   },
   "source": "closedf = closedf[closedf['Date'] > calculate_start]\nclose_stock = closedf.copy()\nprint(\"Total data for prediction: \",closedf.shape[0])",
   "outputs": [
    {
     "name": "stdout",
     "text": "Total data for prediction:  244\n",
     "output_type": "stream"
    }
   ],
   "execution_count": null
  },
  {
   "cell_type": "code",
   "metadata": {
    "execution": {
     "iopub.status.busy": "2021-11-19T22:54:54.350973Z",
     "iopub.execute_input": "2021-11-19T22:54:54.351642Z",
     "iopub.status.idle": "2021-11-19T22:54:54.360164Z",
     "shell.execute_reply.started": "2021-11-19T22:54:54.351601Z",
     "shell.execute_reply": "2021-11-19T22:54:54.359332Z"
    },
    "trusted": true,
    "cell_id": "00008-9b3a89cb-71b0-41f5-8518-e39b9c6d5ce8",
    "deepnote_to_be_reexecuted": false,
    "source_hash": "44089e05",
    "execution_start": 1637451162984,
    "execution_millis": 2169614,
    "deepnote_cell_type": "code"
   },
   "source": "del closedf['Date']\nscaler=MinMaxScaler(feature_range=(0,1))\nclosedf=scaler.fit_transform(np.array(closedf).reshape(-1,1))",
   "outputs": [],
   "execution_count": null
  },
  {
   "cell_type": "code",
   "metadata": {
    "execution": {
     "iopub.status.busy": "2021-11-19T22:54:54.361192Z",
     "iopub.execute_input": "2021-11-19T22:54:54.361755Z",
     "iopub.status.idle": "2021-11-19T22:54:54.370296Z",
     "shell.execute_reply.started": "2021-11-19T22:54:54.361728Z",
     "shell.execute_reply": "2021-11-19T22:54:54.369553Z"
    },
    "trusted": true,
    "cell_id": "00009-ad4160f0-bcac-4ba8-844a-69042b32f74e",
    "deepnote_to_be_reexecuted": false,
    "source_hash": "ea9bbee5",
    "execution_start": 1637451162985,
    "execution_millis": 2169615,
    "deepnote_cell_type": "code"
   },
   "source": "# делим датасет на train и test\ntraining_size = int(len(closedf)*0.60)\ntest_size = len(closedf)-training_size\ntrain_data,test_data=closedf[0:training_size,:],closedf[training_size:len(closedf),:1]",
   "outputs": [],
   "execution_count": null
  },
  {
   "cell_type": "code",
   "metadata": {
    "execution": {
     "iopub.status.busy": "2021-11-19T22:54:54.371284Z",
     "iopub.execute_input": "2021-11-19T22:54:54.371485Z",
     "iopub.status.idle": "2021-11-19T22:54:54.381443Z",
     "shell.execute_reply.started": "2021-11-19T22:54:54.371461Z",
     "shell.execute_reply": "2021-11-19T22:54:54.380881Z"
    },
    "trusted": true,
    "cell_id": "00010-c8afda00-6eea-4a38-ac59-e15f7d929def",
    "deepnote_to_be_reexecuted": false,
    "source_hash": "e240588a",
    "execution_start": 1637451162986,
    "execution_millis": 2169610,
    "deepnote_cell_type": "code"
   },
   "source": "# convert an array of values into a dataset matrix\ndef create_dataset(dataset, time_step=1):\n    dataX, dataY = [], []\n    for i in range(len(dataset)-time_step-1):\n        a = dataset[i:(i+time_step), 0]   ###i=0, 0,1,2,3-----99   100 \n        dataX.append(a)\n        dataY.append(dataset[i + time_step, 0])\n    return np.array(dataX), np.array(dataY)",
   "outputs": [],
   "execution_count": null
  },
  {
   "cell_type": "code",
   "metadata": {
    "execution": {
     "iopub.status.busy": "2021-11-19T22:54:54.382947Z",
     "iopub.execute_input": "2021-11-19T22:54:54.384362Z",
     "iopub.status.idle": "2021-11-19T22:54:54.392492Z",
     "shell.execute_reply.started": "2021-11-19T22:54:54.384330Z",
     "shell.execute_reply": "2021-11-19T22:54:54.391873Z"
    },
    "trusted": true,
    "cell_id": "00011-de971e99-d85f-47a6-bf1b-38eb48019a2d",
    "deepnote_to_be_reexecuted": false,
    "source_hash": "286396f7",
    "execution_start": 1637451162996,
    "execution_millis": 2169602,
    "deepnote_cell_type": "code"
   },
   "source": "time_step = 15\nX_train, y_train = create_dataset(train_data, time_step)\nX_test, y_test = create_dataset(test_data, time_step)",
   "outputs": [],
   "execution_count": null
  },
  {
   "cell_type": "code",
   "metadata": {
    "execution": {
     "iopub.status.busy": "2021-11-19T22:54:54.393569Z",
     "iopub.execute_input": "2021-11-19T22:54:54.393874Z",
     "iopub.status.idle": "2021-11-19T22:54:54.401719Z",
     "shell.execute_reply.started": "2021-11-19T22:54:54.393850Z",
     "shell.execute_reply": "2021-11-19T22:54:54.400994Z"
    },
    "trusted": true,
    "cell_id": "00012-eeefd8b0-8760-4334-9e16-df1eb0f34100",
    "deepnote_to_be_reexecuted": false,
    "source_hash": "9e8cedb8",
    "execution_start": 1637451163007,
    "execution_millis": 2169555,
    "deepnote_cell_type": "code"
   },
   "source": "# reshape input to be [samples, time steps, features] which is required for LSTM\nX_train =X_train.reshape(X_train.shape[0],X_train.shape[1] , 1)\nX_test = X_test.reshape(X_test.shape[0],X_test.shape[1] , 1)",
   "outputs": [],
   "execution_count": null
  },
  {
   "cell_type": "markdown",
   "source": "# Модель",
   "metadata": {
    "tags": [],
    "is_collapsed": false,
    "cell_id": "00017-d44b4de2-12b2-4627-a0c6-746dfacb4ece",
    "deepnote_cell_type": "text-cell-h1"
   }
  },
  {
   "cell_type": "code",
   "metadata": {
    "execution": {
     "iopub.status.busy": "2021-11-19T22:54:54.402660Z",
     "iopub.execute_input": "2021-11-19T22:54:54.403099Z",
     "iopub.status.idle": "2021-11-19T22:54:54.988772Z",
     "shell.execute_reply.started": "2021-11-19T22:54:54.403070Z",
     "shell.execute_reply": "2021-11-19T22:54:54.988171Z"
    },
    "trusted": true,
    "cell_id": "00013-2ba579bb-9d22-4cc4-b08d-83a9ab4432b5",
    "deepnote_to_be_reexecuted": false,
    "source_hash": "41878dc6",
    "execution_start": 1637451163015,
    "execution_millis": 1315,
    "deepnote_cell_type": "code"
   },
   "source": "tf.keras.backend.clear_session()\nmodel=Sequential()\nmodel.add(GRU(32,return_sequences=True,input_shape=(time_step,1)))\nmodel.add(GRU(32,return_sequences=True))\nmodel.add(GRU(32))\nmodel.add(Dropout(0.20))\nmodel.add(Dense(1))\nmodel.compile(loss='mean_squared_error',optimizer='adam')",
   "outputs": [],
   "execution_count": null
  },
  {
   "cell_type": "code",
   "metadata": {
    "deepnote_variable_name": "batch",
    "deepnote_variable_value": "32",
    "deepnote_slider_min_value": 8,
    "deepnote_slider_max_value": 64,
    "deepnote_slider_step": 8,
    "cell_id": "00018-2acb8250-beae-4ea9-bf9d-82a374449709",
    "deepnote_to_be_reexecuted": false,
    "source_hash": "c7053c7",
    "execution_start": 1637451164335,
    "execution_millis": 9,
    "deepnote_cell_type": "input-slider"
   },
   "source": "batch = 32",
   "outputs": [],
   "execution_count": null
  },
  {
   "cell_type": "code",
   "metadata": {
    "execution": {
     "iopub.status.busy": "2021-11-19T22:54:54.991055Z",
     "iopub.execute_input": "2021-11-19T22:54:54.991286Z"
    },
    "trusted": true,
    "cell_id": "00014-0a8cd789-97fd-458c-ab14-58d86ba4ba8d",
    "deepnote_to_be_reexecuted": false,
    "source_hash": "c61b6b73",
    "execution_start": 1637451164352,
    "execution_millis": 59234,
    "deepnote_cell_type": "code"
   },
   "source": "history = model.fit(X_train,y_train,validation_data=(X_test,y_test),epochs=100,batch_size=batch,verbose=1)",
   "outputs": [
    {
     "name": "stdout",
     "text": "Epoch 1/100\n5/5 [==============================] - 13s 1s/step - loss: 0.2792 - val_loss: 0.0400\nEpoch 2/100\n5/5 [==============================] - 0s 62ms/step - loss: 0.1101 - val_loss: 0.0023\nEpoch 3/100\n5/5 [==============================] - 0s 49ms/step - loss: 0.0224 - val_loss: 0.0481\nEpoch 4/100\n5/5 [==============================] - 0s 56ms/step - loss: 0.0427 - val_loss: 0.0220\nEpoch 5/100\n5/5 [==============================] - 0s 73ms/step - loss: 0.0209 - val_loss: 0.0030\nEpoch 6/100\n5/5 [==============================] - 0s 61ms/step - loss: 0.0187 - val_loss: 0.0020\nEpoch 7/100\n5/5 [==============================] - 0s 74ms/step - loss: 0.0188 - val_loss: 0.0050\nEpoch 8/100\n5/5 [==============================] - 0s 61ms/step - loss: 0.0157 - val_loss: 0.0105\nEpoch 9/100\n5/5 [==============================] - 0s 84ms/step - loss: 0.0147 - val_loss: 0.0103\nEpoch 10/100\n5/5 [==============================] - 1s 106ms/step - loss: 0.0162 - val_loss: 0.0044\nEpoch 11/100\n5/5 [==============================] - 1s 136ms/step - loss: 0.0097 - val_loss: 0.0025\nEpoch 12/100\n5/5 [==============================] - 0s 96ms/step - loss: 0.0124 - val_loss: 0.0020\nEpoch 13/100\n5/5 [==============================] - 1s 110ms/step - loss: 0.0123 - val_loss: 0.0031\nEpoch 14/100\n5/5 [==============================] - 0s 93ms/step - loss: 0.0093 - val_loss: 0.0055\nEpoch 15/100\n5/5 [==============================] - 0s 80ms/step - loss: 0.0115 - val_loss: 0.0039\nEpoch 16/100\n5/5 [==============================] - 0s 105ms/step - loss: 0.0095 - val_loss: 0.0027\nEpoch 17/100\n5/5 [==============================] - 1s 125ms/step - loss: 0.0078 - val_loss: 0.0033\nEpoch 18/100\n5/5 [==============================] - 0s 66ms/step - loss: 0.0070 - val_loss: 0.0035\nEpoch 19/100\n5/5 [==============================] - 0s 55ms/step - loss: 0.0101 - val_loss: 0.0024\nEpoch 20/100\n5/5 [==============================] - 0s 72ms/step - loss: 0.0082 - val_loss: 0.0016\nEpoch 21/100\n5/5 [==============================] - 0s 46ms/step - loss: 0.0077 - val_loss: 0.0037\nEpoch 22/100\n5/5 [==============================] - 0s 72ms/step - loss: 0.0115 - val_loss: 0.0058\nEpoch 23/100\n5/5 [==============================] - 0s 80ms/step - loss: 0.0085 - val_loss: 0.0024\nEpoch 24/100\n5/5 [==============================] - 0s 75ms/step - loss: 0.0062 - val_loss: 0.0017\nEpoch 25/100\n5/5 [==============================] - 1s 153ms/step - loss: 0.0071 - val_loss: 0.0022\nEpoch 26/100\n5/5 [==============================] - 0s 81ms/step - loss: 0.0086 - val_loss: 0.0026\nEpoch 27/100\n5/5 [==============================] - 0s 102ms/step - loss: 0.0050 - val_loss: 0.0022\nEpoch 28/100\n5/5 [==============================] - 0s 92ms/step - loss: 0.0045 - val_loss: 0.0015\nEpoch 29/100\n5/5 [==============================] - 0s 59ms/step - loss: 0.0076 - val_loss: 0.0017\nEpoch 30/100\n5/5 [==============================] - 0s 63ms/step - loss: 0.0107 - val_loss: 0.0013\nEpoch 31/100\n5/5 [==============================] - 0s 90ms/step - loss: 0.0081 - val_loss: 0.0012\nEpoch 32/100\n5/5 [==============================] - 0s 55ms/step - loss: 0.0075 - val_loss: 0.0023\nEpoch 33/100\n5/5 [==============================] - 1s 143ms/step - loss: 0.0058 - val_loss: 0.0032\nEpoch 34/100\n5/5 [==============================] - 1s 185ms/step - loss: 0.0074 - val_loss: 0.0019\nEpoch 35/100\n5/5 [==============================] - 0s 105ms/step - loss: 0.0056 - val_loss: 0.0014\nEpoch 36/100\n5/5 [==============================] - 1s 115ms/step - loss: 0.0040 - val_loss: 0.0035\nEpoch 37/100\n5/5 [==============================] - 1s 121ms/step - loss: 0.0062 - val_loss: 0.0014\nEpoch 38/100\n5/5 [==============================] - 1s 122ms/step - loss: 0.0079 - val_loss: 0.0013\nEpoch 39/100\n5/5 [==============================] - 1s 110ms/step - loss: 0.0056 - val_loss: 0.0028\nEpoch 40/100\n5/5 [==============================] - 1s 135ms/step - loss: 0.0047 - val_loss: 0.0016\nEpoch 41/100\n5/5 [==============================] - 1s 136ms/step - loss: 0.0062 - val_loss: 0.0013\nEpoch 42/100\n5/5 [==============================] - 1s 115ms/step - loss: 0.0060 - val_loss: 0.0025\nEpoch 43/100\n5/5 [==============================] - 0s 98ms/step - loss: 0.0057 - val_loss: 0.0031\nEpoch 44/100\n5/5 [==============================] - 1s 132ms/step - loss: 0.0052 - val_loss: 0.0019\nEpoch 45/100\n5/5 [==============================] - 1s 163ms/step - loss: 0.0051 - val_loss: 0.0011\nEpoch 46/100\n5/5 [==============================] - 0s 94ms/step - loss: 0.0051 - val_loss: 0.0037\nEpoch 47/100\n5/5 [==============================] - 1s 138ms/step - loss: 0.0071 - val_loss: 0.0046\nEpoch 48/100\n5/5 [==============================] - 1s 125ms/step - loss: 0.0067 - val_loss: 0.0011\nEpoch 49/100\n5/5 [==============================] - 0s 101ms/step - loss: 0.0084 - val_loss: 0.0011\nEpoch 50/100\n5/5 [==============================] - 0s 106ms/step - loss: 0.0063 - val_loss: 0.0040\nEpoch 51/100\n5/5 [==============================] - 0s 92ms/step - loss: 0.0061 - val_loss: 0.0012\nEpoch 52/100\n5/5 [==============================] - 0s 109ms/step - loss: 0.0056 - val_loss: 0.0010\nEpoch 53/100\n5/5 [==============================] - 1s 129ms/step - loss: 0.0058 - val_loss: 0.0028\nEpoch 54/100\n5/5 [==============================] - 1s 134ms/step - loss: 0.0060 - val_loss: 0.0017\nEpoch 55/100\n5/5 [==============================] - 1s 124ms/step - loss: 0.0046 - val_loss: 0.0010\nEpoch 56/100\n5/5 [==============================] - 1s 127ms/step - loss: 0.0049 - val_loss: 0.0014\nEpoch 57/100\n5/5 [==============================] - 1s 109ms/step - loss: 0.0042 - val_loss: 0.0012\nEpoch 58/100\n5/5 [==============================] - 1s 116ms/step - loss: 0.0067 - val_loss: 0.0013\nEpoch 59/100\n5/5 [==============================] - 0s 101ms/step - loss: 0.0071 - val_loss: 0.0018\nEpoch 60/100\n5/5 [==============================] - 0s 99ms/step - loss: 0.0059 - val_loss: 0.0027\nEpoch 61/100\n5/5 [==============================] - 0s 77ms/step - loss: 0.0054 - val_loss: 0.0024\nEpoch 62/100\n5/5 [==============================] - 1s 124ms/step - loss: 0.0065 - val_loss: 0.0016\nEpoch 63/100\n5/5 [==============================] - 1s 124ms/step - loss: 0.0054 - val_loss: 0.0015\nEpoch 64/100\n5/5 [==============================] - 0s 60ms/step - loss: 0.0059 - val_loss: 0.0011\nEpoch 65/100\n5/5 [==============================] - 0s 77ms/step - loss: 0.0045 - val_loss: 0.0036\nEpoch 66/100\n5/5 [==============================] - 1s 112ms/step - loss: 0.0074 - val_loss: 0.0017\nEpoch 67/100\n5/5 [==============================] - 0s 104ms/step - loss: 0.0050 - val_loss: 9.4570e-04\nEpoch 68/100\n5/5 [==============================] - 1s 132ms/step - loss: 0.0049 - val_loss: 0.0016\nEpoch 69/100\n5/5 [==============================] - 1s 128ms/step - loss: 0.0046 - val_loss: 0.0018\nEpoch 70/100\n5/5 [==============================] - 1s 127ms/step - loss: 0.0044 - val_loss: 9.4620e-04\nEpoch 71/100\n5/5 [==============================] - 1s 120ms/step - loss: 0.0043 - val_loss: 0.0015\nEpoch 72/100\n5/5 [==============================] - 1s 130ms/step - loss: 0.0047 - val_loss: 0.0019\nEpoch 73/100\n5/5 [==============================] - 1s 105ms/step - loss: 0.0041 - val_loss: 0.0018\nEpoch 74/100\n5/5 [==============================] - 0s 103ms/step - loss: 0.0042 - val_loss: 0.0015\nEpoch 75/100\n5/5 [==============================] - 0s 111ms/step - loss: 0.0061 - val_loss: 9.2942e-04\nEpoch 76/100\n5/5 [==============================] - 0s 91ms/step - loss: 0.0054 - val_loss: 9.5315e-04\nEpoch 77/100\n5/5 [==============================] - 0s 101ms/step - loss: 0.0058 - val_loss: 0.0024\nEpoch 78/100\n5/5 [==============================] - 0s 71ms/step - loss: 0.0041 - val_loss: 0.0014\nEpoch 79/100\n5/5 [==============================] - 0s 95ms/step - loss: 0.0037 - val_loss: 0.0010\nEpoch 80/100\n5/5 [==============================] - 0s 51ms/step - loss: 0.0043 - val_loss: 9.2467e-04\nEpoch 81/100\n5/5 [==============================] - 0s 54ms/step - loss: 0.0052 - val_loss: 0.0013\nEpoch 82/100\n5/5 [==============================] - 0s 70ms/step - loss: 0.0034 - val_loss: 0.0012\nEpoch 83/100\n5/5 [==============================] - 1s 118ms/step - loss: 0.0036 - val_loss: 9.0341e-04\nEpoch 84/100\n5/5 [==============================] - 1s 137ms/step - loss: 0.0048 - val_loss: 0.0012\nEpoch 85/100\n5/5 [==============================] - 0s 96ms/step - loss: 0.0046 - val_loss: 0.0015\nEpoch 86/100\n5/5 [==============================] - 0s 49ms/step - loss: 0.0042 - val_loss: 0.0010\nEpoch 87/100\n5/5 [==============================] - 0s 49ms/step - loss: 0.0038 - val_loss: 9.2243e-04\nEpoch 88/100\n5/5 [==============================] - 0s 76ms/step - loss: 0.0042 - val_loss: 0.0011\nEpoch 89/100\n5/5 [==============================] - 1s 105ms/step - loss: 0.0038 - val_loss: 0.0011\nEpoch 90/100\n5/5 [==============================] - 1s 152ms/step - loss: 0.0034 - val_loss: 8.8869e-04\nEpoch 91/100\n5/5 [==============================] - 0s 81ms/step - loss: 0.0055 - val_loss: 0.0013\nEpoch 92/100\n5/5 [==============================] - 1s 117ms/step - loss: 0.0064 - val_loss: 0.0029\nEpoch 93/100\n5/5 [==============================] - 1s 124ms/step - loss: 0.0040 - val_loss: 0.0015\nEpoch 94/100\n5/5 [==============================] - 1s 126ms/step - loss: 0.0044 - val_loss: 0.0015\nEpoch 95/100\n5/5 [==============================] - 0s 97ms/step - loss: 0.0037 - val_loss: 0.0017\nEpoch 96/100\n5/5 [==============================] - 0s 82ms/step - loss: 0.0037 - val_loss: 8.7586e-04\nEpoch 97/100\n5/5 [==============================] - 0s 83ms/step - loss: 0.0080 - val_loss: 0.0012\nEpoch 98/100\n5/5 [==============================] - 0s 86ms/step - loss: 0.0046 - val_loss: 0.0043\nEpoch 99/100\n5/5 [==============================] - 0s 93ms/step - loss: 0.0071 - val_loss: 0.0015\nEpoch 100/100\n5/5 [==============================] - 0s 45ms/step - loss: 0.0041 - val_loss: 9.1129e-04\n",
     "output_type": "stream"
    }
   ],
   "execution_count": null
  },
  {
   "cell_type": "code",
   "metadata": {
    "trusted": true,
    "cell_id": "00016-43cfd65f-02ec-467f-b9c4-a16b39db2d5e",
    "deepnote_to_be_reexecuted": false,
    "source_hash": "94984195",
    "execution_start": 1637451223582,
    "execution_millis": 2069,
    "deepnote_output_heights": [
     266,
     21
    ],
    "deepnote_cell_type": "code"
   },
   "source": "import matplotlib.pyplot as plt\nloss = history.history['loss']\nval_loss = history.history['val_loss']\nepochs = range(len(loss))\nplt.plot(epochs, loss, 'r', label='Training loss')\nplt.plot(epochs, val_loss, 'b', label='Validation loss')\nplt.title('Training and validation loss')\nplt.legend(loc=0)\nplt.figure()\nplt.show()",
   "outputs": [
    {
     "data": {
      "text/plain": "<Figure size 432x288 with 1 Axes>",
      "image/png": "[encoded data removed]"
     },
     "metadata": {
      "needs_background": "light",
      "image/png": {
       "width": 378,
       "height": 264
      }
     },
     "output_type": "display_data"
    },
    {
     "data": {
      "text/plain": "<Figure size 432x288 with 0 Axes>"
     },
     "metadata": {},
     "output_type": "display_data"
    }
   ],
   "execution_count": null
  },
  {
   "cell_type": "code",
   "metadata": {
    "_kg_hide-input": true,
    "_kg_hide-output": true,
    "trusted": true,
    "cell_id": "00017-1e9e4321-eace-41c2-8839-ece2582f4373",
    "deepnote_to_be_reexecuted": false,
    "source_hash": "a3fff1ab",
    "execution_start": 1637451225656,
    "execution_millis": 1755,
    "deepnote_output_heights": [
     21
    ],
    "deepnote_cell_type": "code"
   },
   "source": "### Lets Do the prediction and check performance metrics\ntrain_predict=model.predict(X_train)\ntest_predict=model.predict(X_test)\ntrain_predict.shape, test_predict.shape",
   "outputs": [
    {
     "output_type": "execute_result",
     "execution_count": 24,
     "data": {
      "text/plain": "((130, 1), (82, 1))"
     },
     "metadata": {}
    }
   ],
   "execution_count": null
  },
  {
   "cell_type": "code",
   "metadata": {
    "_kg_hide-input": true,
    "trusted": true,
    "cell_id": "00018-ba404060-b9ff-46cb-8711-9526638e949e",
    "deepnote_to_be_reexecuted": false,
    "source_hash": "89ef2afb",
    "execution_start": 1637451227481,
    "execution_millis": 1,
    "deepnote_cell_type": "code"
   },
   "source": "# Transform back to original form\ntrain_predict = scaler.inverse_transform(train_predict)\ntest_predict = scaler.inverse_transform(test_predict)\noriginal_ytrain = scaler.inverse_transform(y_train.reshape(-1,1)) \noriginal_ytest = scaler.inverse_transform(y_test.reshape(-1,1)) ",
   "outputs": [],
   "execution_count": null
  },
  {
   "cell_type": "code",
   "metadata": {
    "trusted": true,
    "cell_id": "00026-a06bdc6d-573f-4376-93dd-64dc9c5ab894",
    "deepnote_to_be_reexecuted": false,
    "source_hash": "2923e13e",
    "execution_start": 1637451227482,
    "execution_millis": 2205791,
    "deepnote_cell_type": "code"
   },
   "source": "# shift train predictions for plotting\n\nlook_back=time_step\ntrainPredictPlot = np.empty_like(closedf)\ntrainPredictPlot[:, :] = np.nan\ntrainPredictPlot[look_back:len(train_predict)+look_back, :] = train_predict\nprint(\"Train predicted data: \", trainPredictPlot.shape)\n\n# shift test predictions for plotting\ntestPredictPlot = np.empty_like(closedf)\ntestPredictPlot[:, :] = np.nan\ntestPredictPlot[len(train_predict)+(look_back*2)+1:len(closedf)-1, :] = test_predict\nprint(\"Test predicted data: \", testPredictPlot.shape)\n\nnames = cycle(['Original close price','Train predicted close price','Test predicted close price'])\n",
   "outputs": [
    {
     "name": "stdout",
     "text": "Train predicted data:  (244, 1)\nTest predicted data:  (244, 1)\n",
     "output_type": "stream"
    }
   ],
   "execution_count": null
  },
  {
   "cell_type": "markdown",
   "source": "- На сколько дней вперед строить прогноз? По умолчанию: 7",
   "metadata": {
    "tags": [],
    "is_collapsed": false,
    "cell_id": "00035-607629ee-77d9-4de1-b49b-b6b68dcb5c42",
    "deepnote_app_coordinates": {
     "x": 15,
     "y": 12,
     "w": 7,
     "h": 3
    },
    "deepnote_cell_type": "text-cell-p"
   }
  },
  {
   "cell_type": "code",
   "metadata": {
    "deepnote_variable_name": "p_days",
    "deepnote_variable_value": "7",
    "deepnote_slider_min_value": 1,
    "deepnote_slider_max_value": 100,
    "deepnote_slider_step": 1,
    "cell_id": "00035-dfaae8bb-460f-4fd0-aa30-de253268db6d",
    "deepnote_to_be_reexecuted": false,
    "source_hash": "76e6ff46",
    "execution_start": 1637451227530,
    "execution_millis": 86380,
    "deepnote_app_coordinates": {
     "x": 15,
     "y": 15,
     "w": 7,
     "h": 4
    },
    "deepnote_cell_type": "input-slider"
   },
   "source": "p_days = 7",
   "outputs": [],
   "execution_count": null
  },
  {
   "cell_type": "code",
   "metadata": {
    "trusted": true,
    "cell_id": "00028-26d483fe-c229-4772-aebb-2679b55f04fc",
    "deepnote_to_be_reexecuted": false,
    "source_hash": "6d786670",
    "execution_start": 1637451227531,
    "execution_millis": 363,
    "deepnote_cell_type": "code"
   },
   "source": "x_input=test_data[len(test_data)-time_step:].reshape(1,-1)\ntemp_input=list(x_input)\ntemp_input=temp_input[0].tolist()\n\nfrom numpy import array\n\nlst_output=[]\nn_steps=time_step\ni=0\npred_days = p_days\nwhile(i<pred_days):\n    \n    if(len(temp_input)>time_step):\n        \n        x_input=np.array(temp_input[1:])\n        #print(\"{} day input {}\".format(i,x_input))\n        x_input = x_input.reshape(1,-1)\n        x_input = x_input.reshape((1, n_steps, 1))\n        \n        yhat = model.predict(x_input, verbose=0)\n        #print(\"{} day output {}\".format(i,yhat))\n        temp_input.extend(yhat[0].tolist())\n        temp_input=temp_input[1:]\n        #print(temp_input)\n       \n        lst_output.extend(yhat.tolist())\n        i=i+1\n        \n    else:\n        \n        x_input = x_input.reshape((1, n_steps,1))\n        yhat = model.predict(x_input, verbose=0)\n        temp_input.extend(yhat[0].tolist())\n        \n        lst_output.extend(yhat.tolist())\n        i=i+1\n               \nlast_days=np.arange(1,time_step+1)\nday_pred=np.arange(time_step+1,time_step+pred_days+1)",
   "outputs": [],
   "execution_count": null
  },
  {
   "cell_type": "code",
   "metadata": {
    "trusted": true,
    "cell_id": "00030-01fa26e1-2f7f-438a-adc3-17cf7e543172",
    "deepnote_to_be_reexecuted": false,
    "source_hash": "ecd73b81",
    "execution_start": 1637454486170,
    "execution_millis": 155,
    "deepnote_output_heights": [
     null,
     527
    ],
    "deepnote_app_coordinates": {
     "x": 0,
     "y": 26,
     "w": 22,
     "h": 25
    },
    "deepnote_app_is_code_hidden": true,
    "deepnote_cell_type": "code"
   },
   "source": "lstmdf=closedf.tolist()\nlstmdf.extend((np.array(lst_output).reshape(-1,1)).tolist())\nlstmdf=scaler.inverse_transform(lstmdf).reshape(1,-1).tolist()[0]\n\nPr = -1-(p_days)\nP = round(lstmdf[Pr], 2)\nX = round(lstmdf[-1], 2)\nproc = round((X - P) / (P / 100), 2)\nprint('Последняя известная цена на дату ', end, ':  ', P,  sep='')\nprint('Прогноз на ', p_days, ' дней: ', X, ' или ', proc, '%',  sep='' )\n\nfig = px.line(lstmdf,labels={'value': 'цена','index': 'дни'})\nfig.update_layout(title_text=tiker, showlegend=False)\nfig.update_xaxes(rangeslider_visible=True)\n#fig.add_vline(x=261-p_days, line_width=1, line_dash=\"dash\", line_color=\"red\")\nfig.show()",
   "outputs": [
    {
     "name": "stdout",
     "text": "Последняя известная цена на дату 2021-11-12:  577.25\nПрогноз на 7 дней: 557.27 или -3.46%\n",
     "output_type": "stream"
    },
    {
     "data": {
      "text/html": "<html>\n<head><meta charset=\"utf-8\" /></head>\n<body>\n    <div>            <script src=\"https://cdnjs.cloudflare.com/ajax/libs/mathjax/2.7.5/MathJax.js?config=TeX-AMS-MML_SVG\"></script><script type=\"text/javascript\">if (window.MathJax) {MathJax.Hub.Config({SVG: {font: \"STIX-Web\"}});}</script>                <script type=\"text/javascript\">window.PlotlyConfig = {MathJaxConfig: 'local'};</script>\n        <script src=\"https://cdn.plot.ly/plotly-2.4.2.min.js\"></script>                <div id=\"e4e1c236-939c-4fa6-be34-342d498c45b4\" class=\"plotly-graph-div\" style=\"height:525px; width:100%;\"></div>            <script type=\"text/javascript\">                                    window.PLOTLYENV=window.PLOTLYENV || {};                                    if (document.getElementById(\"e4e1c236-939c-4fa6-be34-342d498c45b4\")) {                    Plotly.newPlot(                        \"e4e1c236-939c-4fa6-be34-342d498c45b4\",                        [{\"hovertemplate\":\"variable=0<br>\\u0434\\u043d\\u0438=%{x}<br>\\u0446\\u0435\\u043d\\u0430=%{y}<extra></extra>\",\"legendgroup\":\"0\",\"line\":{\"color\":\"#636efa\",\"dash\":\"solid\"},\"marker\":{\"symbol\":\"circle\"},\"mode\":\"lines\",\"name\":\"0\",\"orientation\":\"v\",\"showlegend\":true,\"type\":\"scatter\",\"x\":[0,1,2,3,4,5,6,7,8,9,10,11,12,13,14,15,16,17,18,19,20,21,22,23,24,25,26,27,28,29,30,31,32,33,34,35,36,37,38,39,40,41,42,43,44,45,46,47,48,49,50,51,52,53,54,55,56,57,58,59,60,61,62,63,64,65,66,67,68,69,70,71,72,73,74,75,76,77,78,79,80,81,82,83,84,85,86,87,88,89,90,91,92,93,94,95,96,97,98,99,100,101,102,103,104,105,106,107,108,109,110,111,112,113,114,115,116,117,118,119,120,121,122,123,124,125,126,127,128,129,130,131,132,133,134,135,136,137,138,139,140,141,142,143,144,145,146,147,148,149,150,151,152,153,154,155,156,157,158,159,160,161,162,163,164,165,166,167,168,169,170,171,172,173,174,175,176,177,178,179,180,181,182,183,184,185,186,187,188,189,190,191,192,193,194,195,196,197,198,199,200,201,202,203,204,205,206,207,208,209,210,211,212,213,214,215,216,217,218,219,220,221,222,223,224,225,226,227,228,229,230,231,232,233,234,235,236,237,238,239,240,241,242,243,244,245,246,247,248,249,250],\"xaxis\":\"x\",\"y\":[426.50000000000006,425.75000000000006,420.0,419.75,414.75,419.0,422.5,417.00000000000006,419.5,417.00000000000006,422.0,420.25,424.25,419.25,424.75,427.24999999999994,432.5,437.5,440.0,443.50000000000006,447.25,456.5,466.0,474.5,484.0,483.75,491.75,495.0,494.0,496.25,492.25,517.25,524.5,534.25,531.5,526.0,522.0,524.25,500.5,511.5,532.25,534.0,534.5,547.0,549.25,543.0,552.0,550.0,548.5,563.75,556.25,534.5,541.0,538.75,552.25,553.0,550.25,542.75,551.0,553.75,559.25,554.75,555.5,547.5,560.75,550.25,546.25,562.0,565.0,562.0,547.75,555.0,549.25,549.5,554.25,558.0,546.5,557.75,549.0,551.25,553.25,546.5,552.5,546.75,539.25,564.25,559.75,553.25,554.25,560.5,579.75,577.25,569.0,580.0,594.0,590.0,585.5,592.0,606.5,625.5,650.5,655.5,680.5,695.5,686.25,702.0,740.0,732.25,744.75,753.2500000000001,759.5,772.7499999999999,747.9999999999999,759.5,757.5,719.0,685.0,652.5,658.25,658.25,664.5,659.5,657.25,620.25,624.5,664.5,656.75,688.75,675.0,662.0,682.75,679.25,680.0,690.75,699.0,684.5,659.25,667.5,673.0,633.0,655.25,659.25,659.75,664.25,653.25,636.5,675.5,694.5,720.0,719.7499999999999,697.25,656.0,652.5,638.0,629.75,669.25,677.0,683.0,564.25,556.0,556.0,571.75,571.75,564.5,547.25,549.75,548.75,549.25,558.0,547.0,558.75,550.5,545.75,555.75,555.0,550.25,549.25,556.25,567.0,568.25,564.75,558.25,561.75,550.0,538.75,538.0,544.5,551.25,552.75,558.0,540.25,534.0,515.5,516.25,507.99999999999994,495.75,498.25000000000006,496.0,502.75,496.75,503.0,533.5,529.5,527.25,521.75,517.0,525.5,529.25,526.75,539.5,532.5,539.0,536.75,541.5,540.75,537.5,532.25,534.0,530.5,533.0,522.5,512.25,516.75,525.75,532.75,530.25,539.25,532.25,538.0,538.0,543.5,557.25,562.75,568.25,579.0,573.0,564.0,559.25,553.0,551.5,554.75,569.25,569.5,577.25,567.3140771389008,567.7762469053268,566.1380931138992,563.9815213680267,561.7207325696945,559.4676896333694,557.2709802389145],\"yaxis\":\"y\"}],                        {\"legend\":{\"title\":{\"text\":\"variable\"},\"tracegroupgap\":0},\"margin\":{\"t\":60},\"showlegend\":false,\"template\":{\"data\":{\"bar\":[{\"error_x\":{\"color\":\"#2a3f5f\"},\"error_y\":{\"color\":\"#2a3f5f\"},\"marker\":{\"line\":{\"color\":\"#E5ECF6\",\"width\":0.5},\"pattern\":{\"fillmode\":\"overlay\",\"size\":10,\"solidity\":0.2}},\"type\":\"bar\"}],\"barpolar\":[{\"marker\":{\"line\":{\"color\":\"#E5ECF6\",\"width\":0.5},\"pattern\":{\"fillmode\":\"overlay\",\"size\":10,\"solidity\":0.2}},\"type\":\"barpolar\"}],\"carpet\":[{\"aaxis\":{\"endlinecolor\":\"#2a3f5f\",\"gridcolor\":\"white\",\"linecolor\":\"white\",\"minorgridcolor\":\"white\",\"startlinecolor\":\"#2a3f5f\"},\"baxis\":{\"endlinecolor\":\"#2a3f5f\",\"gridcolor\":\"white\",\"linecolor\":\"white\",\"minorgridcolor\":\"white\",\"startlinecolor\":\"#2a3f5f\"},\"type\":\"carpet\"}],\"choropleth\":[{\"colorbar\":{\"outlinewidth\":0,\"ticks\":\"\"},\"type\":\"choropleth\"}],\"contour\":[{\"colorbar\":{\"outlinewidth\":0,\"ticks\":\"\"},\"colorscale\":[[0.0,\"#0d0887\"],[0.1111111111111111,\"#46039f\"],[0.2222222222222222,\"#7201a8\"],[0.3333333333333333,\"#9c179e\"],[0.4444444444444444,\"#bd3786\"],[0.5555555555555556,\"#d8576b\"],[0.6666666666666666,\"#ed7953\"],[0.7777777777777778,\"#fb9f3a\"],[0.8888888888888888,\"#fdca26\"],[1.0,\"#f0f921\"]],\"type\":\"contour\"}],\"contourcarpet\":[{\"colorbar\":{\"outlinewidth\":0,\"ticks\":\"\"},\"type\":\"contourcarpet\"}],\"heatmap\":[{\"colorbar\":{\"outlinewidth\":0,\"ticks\":\"\"},\"colorscale\":[[0.0,\"#0d0887\"],[0.1111111111111111,\"#46039f\"],[0.2222222222222222,\"#7201a8\"],[0.3333333333333333,\"#9c179e\"],[0.4444444444444444,\"#bd3786\"],[0.5555555555555556,\"#d8576b\"],[0.6666666666666666,\"#ed7953\"],[0.7777777777777778,\"#fb9f3a\"],[0.8888888888888888,\"#fdca26\"],[1.0,\"#f0f921\"]],\"type\":\"heatmap\"}],\"heatmapgl\":[{\"colorbar\":{\"outlinewidth\":0,\"ticks\":\"\"},\"colorscale\":[[0.0,\"#0d0887\"],[0.1111111111111111,\"#46039f\"],[0.2222222222222222,\"#7201a8\"],[0.3333333333333333,\"#9c179e\"],[0.4444444444444444,\"#bd3786\"],[0.5555555555555556,\"#d8576b\"],[0.6666666666666666,\"#ed7953\"],[0.7777777777777778,\"#fb9f3a\"],[0.8888888888888888,\"#fdca26\"],[1.0,\"#f0f921\"]],\"type\":\"heatmapgl\"}],\"histogram\":[{\"marker\":{\"pattern\":{\"fillmode\":\"overlay\",\"size\":10,\"solidity\":0.2}},\"type\":\"histogram\"}],\"histogram2d\":[{\"colorbar\":{\"outlinewidth\":0,\"ticks\":\"\"},\"colorscale\":[[0.0,\"#0d0887\"],[0.1111111111111111,\"#46039f\"],[0.2222222222222222,\"#7201a8\"],[0.3333333333333333,\"#9c179e\"],[0.4444444444444444,\"#bd3786\"],[0.5555555555555556,\"#d8576b\"],[0.6666666666666666,\"#ed7953\"],[0.7777777777777778,\"#fb9f3a\"],[0.8888888888888888,\"#fdca26\"],[1.0,\"#f0f921\"]],\"type\":\"histogram2d\"}],\"histogram2dcontour\":[{\"colorbar\":{\"outlinewidth\":0,\"ticks\":\"\"},\"colorscale\":[[0.0,\"#0d0887\"],[0.1111111111111111,\"#46039f\"],[0.2222222222222222,\"#7201a8\"],[0.3333333333333333,\"#9c179e\"],[0.4444444444444444,\"#bd3786\"],[0.5555555555555556,\"#d8576b\"],[0.6666666666666666,\"#ed7953\"],[0.7777777777777778,\"#fb9f3a\"],[0.8888888888888888,\"#fdca26\"],[1.0,\"#f0f921\"]],\"type\":\"histogram2dcontour\"}],\"mesh3d\":[{\"colorbar\":{\"outlinewidth\":0,\"ticks\":\"\"},\"type\":\"mesh3d\"}],\"parcoords\":[{\"line\":{\"colorbar\":{\"outlinewidth\":0,\"ticks\":\"\"}},\"type\":\"parcoords\"}],\"pie\":[{\"automargin\":true,\"type\":\"pie\"}],\"scatter\":[{\"marker\":{\"colorbar\":{\"outlinewidth\":0,\"ticks\":\"\"}},\"type\":\"scatter\"}],\"scatter3d\":[{\"line\":{\"colorbar\":{\"outlinewidth\":0,\"ticks\":\"\"}},\"marker\":{\"colorbar\":{\"outlinewidth\":0,\"ticks\":\"\"}},\"type\":\"scatter3d\"}],\"scattercarpet\":[{\"marker\":{\"colorbar\":{\"outlinewidth\":0,\"ticks\":\"\"}},\"type\":\"scattercarpet\"}],\"scattergeo\":[{\"marker\":{\"colorbar\":{\"outlinewidth\":0,\"ticks\":\"\"}},\"type\":\"scattergeo\"}],\"scattergl\":[{\"marker\":{\"colorbar\":{\"outlinewidth\":0,\"ticks\":\"\"}},\"type\":\"scattergl\"}],\"scattermapbox\":[{\"marker\":{\"colorbar\":{\"outlinewidth\":0,\"ticks\":\"\"}},\"type\":\"scattermapbox\"}],\"scatterpolar\":[{\"marker\":{\"colorbar\":{\"outlinewidth\":0,\"ticks\":\"\"}},\"type\":\"scatterpolar\"}],\"scatterpolargl\":[{\"marker\":{\"colorbar\":{\"outlinewidth\":0,\"ticks\":\"\"}},\"type\":\"scatterpolargl\"}],\"scatterternary\":[{\"marker\":{\"colorbar\":{\"outlinewidth\":0,\"ticks\":\"\"}},\"type\":\"scatterternary\"}],\"surface\":[{\"colorbar\":{\"outlinewidth\":0,\"ticks\":\"\"},\"colorscale\":[[0.0,\"#0d0887\"],[0.1111111111111111,\"#46039f\"],[0.2222222222222222,\"#7201a8\"],[0.3333333333333333,\"#9c179e\"],[0.4444444444444444,\"#bd3786\"],[0.5555555555555556,\"#d8576b\"],[0.6666666666666666,\"#ed7953\"],[0.7777777777777778,\"#fb9f3a\"],[0.8888888888888888,\"#fdca26\"],[1.0,\"#f0f921\"]],\"type\":\"surface\"}],\"table\":[{\"cells\":{\"fill\":{\"color\":\"#EBF0F8\"},\"line\":{\"color\":\"white\"}},\"header\":{\"fill\":{\"color\":\"#C8D4E3\"},\"line\":{\"color\":\"white\"}},\"type\":\"table\"}]},\"layout\":{\"annotationdefaults\":{\"arrowcolor\":\"#2a3f5f\",\"arrowhead\":0,\"arrowwidth\":1},\"autotypenumbers\":\"strict\",\"coloraxis\":{\"colorbar\":{\"outlinewidth\":0,\"ticks\":\"\"}},\"colorscale\":{\"diverging\":[[0,\"#8e0152\"],[0.1,\"#c51b7d\"],[0.2,\"#de77ae\"],[0.3,\"#f1b6da\"],[0.4,\"#fde0ef\"],[0.5,\"#f7f7f7\"],[0.6,\"#e6f5d0\"],[0.7,\"#b8e186\"],[0.8,\"#7fbc41\"],[0.9,\"#4d9221\"],[1,\"#276419\"]],\"sequential\":[[0.0,\"#0d0887\"],[0.1111111111111111,\"#46039f\"],[0.2222222222222222,\"#7201a8\"],[0.3333333333333333,\"#9c179e\"],[0.4444444444444444,\"#bd3786\"],[0.5555555555555556,\"#d8576b\"],[0.6666666666666666,\"#ed7953\"],[0.7777777777777778,\"#fb9f3a\"],[0.8888888888888888,\"#fdca26\"],[1.0,\"#f0f921\"]],\"sequentialminus\":[[0.0,\"#0d0887\"],[0.1111111111111111,\"#46039f\"],[0.2222222222222222,\"#7201a8\"],[0.3333333333333333,\"#9c179e\"],[0.4444444444444444,\"#bd3786\"],[0.5555555555555556,\"#d8576b\"],[0.6666666666666666,\"#ed7953\"],[0.7777777777777778,\"#fb9f3a\"],[0.8888888888888888,\"#fdca26\"],[1.0,\"#f0f921\"]]},\"colorway\":[\"#636efa\",\"#EF553B\",\"#00cc96\",\"#ab63fa\",\"#FFA15A\",\"#19d3f3\",\"#FF6692\",\"#B6E880\",\"#FF97FF\",\"#FECB52\"],\"font\":{\"color\":\"#2a3f5f\"},\"geo\":{\"bgcolor\":\"white\",\"lakecolor\":\"white\",\"landcolor\":\"#E5ECF6\",\"showlakes\":true,\"showland\":true,\"subunitcolor\":\"white\"},\"hoverlabel\":{\"align\":\"left\"},\"hovermode\":\"closest\",\"mapbox\":{\"style\":\"light\"},\"paper_bgcolor\":\"white\",\"plot_bgcolor\":\"#E5ECF6\",\"polar\":{\"angularaxis\":{\"gridcolor\":\"white\",\"linecolor\":\"white\",\"ticks\":\"\"},\"bgcolor\":\"#E5ECF6\",\"radialaxis\":{\"gridcolor\":\"white\",\"linecolor\":\"white\",\"ticks\":\"\"}},\"scene\":{\"xaxis\":{\"backgroundcolor\":\"#E5ECF6\",\"gridcolor\":\"white\",\"gridwidth\":2,\"linecolor\":\"white\",\"showbackground\":true,\"ticks\":\"\",\"zerolinecolor\":\"white\"},\"yaxis\":{\"backgroundcolor\":\"#E5ECF6\",\"gridcolor\":\"white\",\"gridwidth\":2,\"linecolor\":\"white\",\"showbackground\":true,\"ticks\":\"\",\"zerolinecolor\":\"white\"},\"zaxis\":{\"backgroundcolor\":\"#E5ECF6\",\"gridcolor\":\"white\",\"gridwidth\":2,\"linecolor\":\"white\",\"showbackground\":true,\"ticks\":\"\",\"zerolinecolor\":\"white\"}},\"shapedefaults\":{\"line\":{\"color\":\"#2a3f5f\"}},\"ternary\":{\"aaxis\":{\"gridcolor\":\"white\",\"linecolor\":\"white\",\"ticks\":\"\"},\"baxis\":{\"gridcolor\":\"white\",\"linecolor\":\"white\",\"ticks\":\"\"},\"bgcolor\":\"#E5ECF6\",\"caxis\":{\"gridcolor\":\"white\",\"linecolor\":\"white\",\"ticks\":\"\"}},\"title\":{\"x\":0.05},\"xaxis\":{\"automargin\":true,\"gridcolor\":\"white\",\"linecolor\":\"white\",\"ticks\":\"\",\"title\":{\"standoff\":15},\"zerolinecolor\":\"white\",\"zerolinewidth\":2},\"yaxis\":{\"automargin\":true,\"gridcolor\":\"white\",\"linecolor\":\"white\",\"ticks\":\"\",\"title\":{\"standoff\":15},\"zerolinecolor\":\"white\",\"zerolinewidth\":2}}},\"title\":{\"text\":\"ZC=F\"},\"xaxis\":{\"anchor\":\"y\",\"domain\":[0.0,1.0],\"rangeslider\":{\"visible\":true},\"title\":{\"text\":\"\\u0434\\u043d\\u0438\"}},\"yaxis\":{\"anchor\":\"x\",\"domain\":[0.0,1.0],\"title\":{\"text\":\"\\u0446\\u0435\\u043d\\u0430\"}}},                        {\"responsive\": true}                    ).then(function(){\n                            \nvar gd = document.getElementById('e4e1c236-939c-4fa6-be34-342d498c45b4');\nvar x = new MutationObserver(function (mutations, observer) {{\n        var display = window.getComputedStyle(gd).display;\n        if (!display || display === 'none') {{\n            console.log([gd, 'removed!']);\n            Plotly.purge(gd);\n            observer.disconnect();\n        }}\n}});\n\n// Listen for the removal of the full notebook cells\nvar notebookContainer = gd.closest('#notebook-container');\nif (notebookContainer) {{\n    x.observe(notebookContainer, {childList: true});\n}}\n\n// Listen for the clearing of the current output cell\nvar outputEl = gd.closest('.output');\nif (outputEl) {{\n    x.observe(outputEl, {childList: true});\n}}\n\n                        })                };                            </script>        </div>\n</body>\n</html>"
     },
     "metadata": {},
     "output_type": "display_data"
    }
   ],
   "execution_count": null
  },
  {
   "cell_type": "markdown",
   "source": "### Показатели модели",
   "metadata": {
    "tags": [],
    "is_collapsed": false,
    "cell_id": "00024-672df4bd-b595-4b95-b820-3e71c333d895",
    "deepnote_cell_type": "text-cell-h3"
   }
  },
  {
   "cell_type": "code",
   "metadata": {
    "trusted": true,
    "cell_id": "00022-0e7663ef-11d7-41e5-ac7e-a8fdc34be8a9",
    "deepnote_to_be_reexecuted": false,
    "source_hash": "46efcba7",
    "execution_start": 1637451232074,
    "execution_millis": 28,
    "deepnote_cell_type": "code"
   },
   "source": "print('Evaluation metrices RMSE, MSE and MAE Root Mean Square Error (RMSE), Mean Square Error (MSE) and Mean absolute Error (MAE) are a standard way to measure the error of a model in predicting quantitative data.')\nprint(\"Train data RMSE: \", math.sqrt(mean_squared_error(original_ytrain,train_predict)))\nprint(\"Train data MSE: \", mean_squared_error(original_ytrain,train_predict))\nprint(\"Train data MAE: \", mean_absolute_error(original_ytrain,train_predict))\n\nprint(\"Test data RMSE: \", math.sqrt(mean_squared_error(original_ytest,test_predict)))\nprint(\"Test data MSE: \", mean_squared_error(original_ytest,test_predict))\nprint(\"Test data MAE: \", mean_absolute_error(original_ytest,test_predict))\nprint(\"-------------------------------------------------------------------------------------\")\nprint('The explained variance score explains the dispersion of errors of a given dataset, and the formula is written as follows: Here, and Var(y) is the variance of prediction errors and actual values respectively. Scores close to 1.0 are highly desired, indicating better squares of standard deviations of errors.')\nprint('Чем ближе к 1 - тем лучше!')\nprint(\"Train data explained variance regression score:\", explained_variance_score(original_ytrain, train_predict))\nprint(\"Test data explained variance regression score:\", explained_variance_score(original_ytest, test_predict))\nprint('------------')\nprint(\"R2 score for regression R-squared (R2) is a statistical measure that represents the proportion of the variance for a dependent variable that's explained by an independent variable or variables in a regression model.\")\nprint('Чем ближе к 1 - тем лучше!')\nprint(\"Train data R2 score:\", r2_score(original_ytrain, train_predict))\nprint(\"Test data R2 score:\", r2_score(original_ytest, test_predict))\nprint('------------')\nprint('Чем ближе к 0 - тем лучше!')\nprint(\"Train data MGD: \", mean_gamma_deviance(original_ytrain, train_predict))\nprint(\"Test data MGD: \", mean_gamma_deviance(original_ytest, test_predict))\nprint(\"Train data MPD: \", mean_poisson_deviance(original_ytrain, train_predict))\nprint(\"Test data MPD: \", mean_poisson_deviance(original_ytest, test_predict))",
   "outputs": [
    {
     "name": "stdout",
     "text": "Evaluation metrices RMSE, MSE and MAE Root Mean Square Error (RMSE), Mean Square Error (MSE) and Mean absolute Error (MAE) are a standard way to measure the error of a model in predicting quantitative data.\nTrain data RMSE:  19.143577270447263\nTrain data MSE:  366.4765507095851\nTrain data MAE:  14.390174278846153\nTest data RMSE:  10.807153905285835\nTest data MSE:  116.79457553253486\nTest data MAE:  8.566683141196647\n-------------------------------------------------------------------------------------\nThe explained variance score explains the dispersion of errors of a given dataset, and the formula is written as follows: Here, and Var(y) is the variance of prediction errors and actual values respectively. Scores close to 1.0 are highly desired, indicating better squares of standard deviations of errors.\nЧем ближе к 1 - тем лучше!\nTrain data explained variance regression score: 0.9618629688954493\nTest data explained variance regression score: 0.7164149090318677\n------------\nR2 score for regression R-squared (R2) is a statistical measure that represents the proportion of the variance for a dependent variable that's explained by an independent variable or variables in a regression model.\nЧем ближе к 1 - тем лучше!\nTrain data R2 score: 0.9441007892326432\nTest data R2 score: 0.702590567600715\n------------\nЧем ближе к 0 - тем лучше!\nTrain data MGD:  0.0009098171445356167\nTest data MGD:  0.0004026354279393582\nTrain data MPD:  0.5738202375233334\nTest data MPD:  0.21671703032793851\n",
     "output_type": "stream"
    }
   ],
   "execution_count": null
  },
  {
   "cell_type": "markdown",
   "source": "<a style='text-decoration:none;line-height:16px;display:flex;color:#5B5B62;padding:10px;justify-content:end;' href='https://deepnote.com?utm_source=created-in-deepnote-cell&projectId=4443513c-0bf1-4763-8feb-cfacec61e611' target=\"_blank\">\n<img alt='Created in deepnote.com' style='display:inline;max-height:16px;margin:0px;margin-right:7.5px;' src='data:image/svg+xml;base64,PD94bWwgdmVyc2lvbj0iMS4wIiBlbmNvZGluZz0iVVRGLTgiPz4KPHN2ZyB3aWR0aD0iODBweCIgaGVpZ2h0PSI4MHB4IiB2aWV3Qm94PSIwIDAgODAgODAiIHZlcnNpb249IjEuMSIgeG1sbnM9Imh0dHA6Ly93d3cudzMub3JnLzIwMDAvc3ZnIiB4bWxuczp4bGluaz0iaHR0cDovL3d3dy53My5vcmcvMTk5OS94bGluayI+CiAgICA8IS0tIEdlbmVyYXRvcjogU2tldGNoIDU0LjEgKDc2NDkwKSAtIGh0dHBzOi8vc2tldGNoYXBwLmNvbSAtLT4KICAgIDx0aXRsZT5Hcm91cCAzPC90aXRsZT4KICAgIDxkZXNjPkNyZWF0ZWQgd2l0aCBTa2V0Y2guPC9kZXNjPgogICAgPGcgaWQ9IkxhbmRpbmciIHN0cm9rZT0ibm9uZSIgc3Ryb2tlLXdpZHRoPSIxIiBmaWxsPSJub25lIiBmaWxsLXJ1bGU9ImV2ZW5vZGQiPgogICAgICAgIDxnIGlkPSJBcnRib2FyZCIgdHJhbnNmb3JtPSJ0cmFuc2xhdGUoLTEyMzUuMDAwMDAwLCAtNzkuMDAwMDAwKSI+CiAgICAgICAgICAgIDxnIGlkPSJHcm91cC0zIiB0cmFuc2Zvcm09InRyYW5zbGF0ZSgxMjM1LjAwMDAwMCwgNzkuMDAwMDAwKSI+CiAgICAgICAgICAgICAgICA8cG9seWdvbiBpZD0iUGF0aC0yMCIgZmlsbD0iIzAyNjVCNCIgcG9pbnRzPSIyLjM3NjIzNzYyIDgwIDM4LjA0NzY2NjcgODAgNTcuODIxNzgyMiA3My44MDU3NTkyIDU3LjgyMTc4MjIgMzIuNzU5MjczOSAzOS4xNDAyMjc4IDMxLjY4MzE2ODMiPjwvcG9seWdvbj4KICAgICAgICAgICAgICAgIDxwYXRoIGQ9Ik0zNS4wMDc3MTgsODAgQzQyLjkwNjIwMDcsNzYuNDU0OTM1OCA0Ny41NjQ5MTY3LDcxLjU0MjI2NzEgNDguOTgzODY2LDY1LjI2MTk5MzkgQzUxLjExMjI4OTksNTUuODQxNTg0MiA0MS42NzcxNzk1LDQ5LjIxMjIyODQgMjUuNjIzOTg0Niw0OS4yMTIyMjg0IEMyNS40ODQ5Mjg5LDQ5LjEyNjg0NDggMjkuODI2MTI5Niw0My4yODM4MjQ4IDM4LjY0NzU4NjksMzEuNjgzMTY4MyBMNzIuODcxMjg3MSwzMi41NTQ0MjUgTDY1LjI4MDk3Myw2Ny42NzYzNDIxIEw1MS4xMTIyODk5LDc3LjM3NjE0NCBMMzUuMDA3NzE4LDgwIFoiIGlkPSJQYXRoLTIyIiBmaWxsPSIjMDAyODY4Ij48L3BhdGg+CiAgICAgICAgICAgICAgICA8cGF0aCBkPSJNMCwzNy43MzA0NDA1IEwyNy4xMTQ1MzcsMC4yNTcxMTE0MzYgQzYyLjM3MTUxMjMsLTEuOTkwNzE3MDEgODAsMTAuNTAwMzkyNyA4MCwzNy43MzA0NDA1IEM4MCw2NC45NjA0ODgyIDY0Ljc3NjUwMzgsNzkuMDUwMzQxNCAzNC4zMjk1MTEzLDgwIEM0Ny4wNTUzNDg5LDc3LjU2NzA4MDggNTMuNDE4MjY3Nyw3MC4zMTM2MTAzIDUzLjQxODI2NzcsNTguMjM5NTg4NSBDNTMuNDE4MjY3Nyw0MC4xMjg1NTU3IDM2LjMwMzk1NDQsMzcuNzMwNDQwNSAyNS4yMjc0MTcsMzcuNzMwNDQwNSBDMTcuODQzMDU4NiwzNy43MzA0NDA1IDkuNDMzOTE5NjYsMzcuNzMwNDQwNSAwLDM3LjczMDQ0MDUgWiIgaWQ9IlBhdGgtMTkiIGZpbGw9IiMzNzkzRUYiPjwvcGF0aD4KICAgICAgICAgICAgPC9nPgogICAgICAgIDwvZz4KICAgIDwvZz4KPC9zdmc+' > </img>\nCreated in <span style='font-weight:600;margin-left:4px;'>Deepnote</span></a>",
   "metadata": {
    "tags": [],
    "created_in_deepnote_cell": true,
    "deepnote_cell_type": "markdown"
   }
  }
 ],
 "nbformat": 4,
 "nbformat_minor": 4,
 "metadata": {
  "kernelspec": {
   "language": "python",
   "display_name": "Python 3",
   "name": "python3"
  },
  "language_info": {
   "name": "python",
   "version": "3.7.10",
   "mimetype": "text/x-python",
   "codemirror_mode": {
    "name": "ipython",
    "version": 3
   },
   "pygments_lexer": "ipython3",
   "nbconvert_exporter": "python",
   "file_extension": ".py"
  },
  "deepnote_notebook_id": "09bd29bf-9111-4fae-95ea-6f4a0d79d0ff",
  "deepnote": {},
  "deepnote_execution_queue": [],
  "deepnote_app_layout": "dashboard"
 }
}